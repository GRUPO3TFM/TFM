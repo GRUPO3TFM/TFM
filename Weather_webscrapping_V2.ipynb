{
  "nbformat": 4,
  "nbformat_minor": 0,
  "metadata": {
    "colab": {
      "provenance": [],
      "authorship_tag": "ABX9TyPOtZClre1S0PAvHvRjlqtd",
      "include_colab_link": true
    },
    "kernelspec": {
      "name": "python3",
      "display_name": "Python 3"
    },
    "language_info": {
      "name": "python"
    }
  },
  "cells": [
    {
      "cell_type": "markdown",
      "metadata": {
        "id": "view-in-github",
        "colab_type": "text"
      },
      "source": [
        "<a href=\"https://colab.research.google.com/github/GRUPO3TFM/TFM/blob/main/Weather_webscrapping_V2.ipynb\" target=\"_parent\"><img src=\"https://colab.research.google.com/assets/colab-badge.svg\" alt=\"Open In Colab\"/></a>"
      ]
    },
    {
      "cell_type": "markdown",
      "source": [
        "**Listado de Ciudades / Estaciones Weather**\n",
        "\n",
        "- Berlin  00433\n",
        "\n",
        "- Hamburg 01975\n",
        "\n",
        "- Munchen 03379\n",
        "\n",
        "- Koln 00003 #Aachen\n",
        "\n",
        "- Frankfurt am main 01420\n",
        "\n",
        "- Stuttgart 04928\n",
        "\n",
        "- Düsseldorf 01078\n",
        "\n",
        "- Leipzig 02928\n",
        "\n",
        "- Dortmund 06043\n",
        "\n",
        "- Essen 14146\n",
        "\n",
        "- Bremen 00691\n",
        "\n",
        "- Dresden 01048\n",
        "\n",
        "- Hannover 02014\n",
        "\n",
        "- Nürnberg 03668\n",
        "\n",
        "- Duisburg 13670\n",
        "\n",
        "- Bochum 00555\n",
        "\n",
        "- Wuppertal 05717\n",
        "\n",
        "- Bielefeld 07106\n",
        "\n",
        "- Bonn 00599\n",
        "\n",
        "- Münster(Westf) 01766"
      ],
      "metadata": {
        "id": "us5LFMwd9A3T"
      }
    },
    {
      "cell_type": "markdown",
      "source": [
        "**Temperatura Min y Maximo ( medicion cada 10min )**\n",
        "\n",
        "\n",
        "source:   https://opendata.dwd.de/climate_environment/CDC/observations_germany/climate/10_minutes/extreme_temperature/\n",
        ":\n",
        "Description Dataset:  DESCRIPTION_obsgermany_climate_10min_extreme_temperature_en.pdf (dwd.de)"
      ],
      "metadata": {
        "id": "zGZ36wdKKiyD"
      }
    },
    {
      "cell_type": "markdown",
      "source": [
        "**Extreme Wind ( medicion cada hora)**  \n",
        "* Wind Speed and Wind Gust / Velocidad del viento y Ráfaga de viento )\n",
        "\n",
        "Ráfaga de viento ( aumento repentino y temporal en la velocidad del viento por encima de la velocidad promedio. ráfagas de viento pueden ocurrir en condiciones de viento variable, como tormentas o frentes de viento. La windgust se mide como la velocidad máxima alcanzada durante la ráfaga de viento y se expresa en las mismas unidades que la windspeed (km/h o m/s).\\\n",
        "\n",
        "Source: Ihttps://opendata.dwd.de/climate_environment/CDC/observations_germany/climate/hourly/extreme_wind/\n",
        "\n",
        "Description Dataset: DESCRIPTION_obsgermany_climate_hourly_extreme_wind_en.pdf (dwd.de)\n"
      ],
      "metadata": {
        "id": "Utml4bmFJlr1"
      }
    },
    {
      "cell_type": "markdown",
      "source": [
        "**Precipitation ( medicion cada hora )**\n",
        "\n",
        "Source: Index of /climate_environment/CDC/observations_germany/climate/hourly/precipitation/ (dwd.de)\\\n",
        "Description Dataset: DESCRIPTION_obsgermany_climate_hourly_precipitation_en.pdf (dwd.de)\n"
      ],
      "metadata": {
        "id": "uyYY6RaCJ77k"
      }
    },
    {
      "cell_type": "markdown",
      "source": [
        "**Weather Phenomena (  medicion cada Hora )**\n",
        "\n",
        "varios registros fenómenos climáticos, como nieve, precipitación y nieve, etc\\\n",
        "Source: Index of: https://opendata.dwd.de/climate_environment/CDC/observations_germany/climate/10_minutes/extreme_temperature/recent/\n"
      ],
      "metadata": {
        "id": "GrB7OO83KVWj"
      }
    },
    {
      "cell_type": "code",
      "source": [
        "pip install requests beautifulsoup4\n"
      ],
      "metadata": {
        "colab": {
          "base_uri": "https://localhost:8080/"
        },
        "id": "fxOcD5uV3J3C",
        "outputId": "52284633-1655-4595-89b0-8e422b229ad2"
      },
      "execution_count": 1,
      "outputs": [
        {
          "output_type": "stream",
          "name": "stdout",
          "text": [
            "Requirement already satisfied: requests in /usr/local/lib/python3.10/dist-packages (2.32.3)\n",
            "Requirement already satisfied: beautifulsoup4 in /usr/local/lib/python3.10/dist-packages (4.12.3)\n",
            "Requirement already satisfied: charset-normalizer<4,>=2 in /usr/local/lib/python3.10/dist-packages (from requests) (3.3.2)\n",
            "Requirement already satisfied: idna<4,>=2.5 in /usr/local/lib/python3.10/dist-packages (from requests) (3.8)\n",
            "Requirement already satisfied: urllib3<3,>=1.21.1 in /usr/local/lib/python3.10/dist-packages (from requests) (2.0.7)\n",
            "Requirement already satisfied: certifi>=2017.4.17 in /usr/local/lib/python3.10/dist-packages (from requests) (2024.8.30)\n",
            "Requirement already satisfied: soupsieve>1.2 in /usr/local/lib/python3.10/dist-packages (from beautifulsoup4) (2.6)\n"
          ]
        }
      ]
    },
    {
      "cell_type": "markdown",
      "source": [],
      "metadata": {
        "id": "jlT2fioSKPhR"
      }
    },
    {
      "cell_type": "code",
      "source": [
        "#cargamos llibrerias necesarias\n",
        "import requests\n",
        "from bs4 import BeautifulSoup\n",
        "import urllib.request\n",
        "\n",
        "import zipfile\n",
        "import os\n",
        "from google.colab import files"
      ],
      "metadata": {
        "id": "b9QvGMRxK9ns"
      },
      "execution_count": 2,
      "outputs": []
    },
    {
      "cell_type": "markdown",
      "source": [
        "** TEMPERATURAS MIN Y MAX**"
      ],
      "metadata": {
        "id": "K456w0ntXlwe"
      }
    },
    {
      "cell_type": "code",
      "source": [
        "######                              T E M P E R A T U R A     M I N    Y   M A X I M O\n",
        "\n",
        "\n",
        "#URL de la página web\n",
        "url = \"https://opendata.dwd.de/climate_environment/CDC/observations_germany/climate/10_minutes/extreme_temperature/recent/\"\n",
        "\n",
        "#Mapeo de IDs de estaciones a nombres de ciudades\n",
        "station_to_city = {\n",
        "    '00433': 'Berlin',\n",
        "    '01975': 'Hamburg',\n",
        "    '03379': 'Munchen',\n",
        "    '02667': 'Bonn',\n",
        "    '01420': 'Frankfurt_am_Main',\n",
        "    '04928': 'Stuttgart',\n",
        "    '01078': 'Düsseldorf',\n",
        "    '02928': 'Leipzig',\n",
        "    '01303': 'Essen',\n",
        "    '00691': 'Bremen',\n",
        "    '01048': 'Dresden',\n",
        "    '02014': 'Hannover',\n",
        "    '03668': 'Nürnberg',\n",
        "    '13670': 'Duisburg',\n",
        "    '00555': 'Bochum',\n",
        "    '05717': 'Wuppertal',\n",
        "    '07106': 'Bielefeld',\n",
        "    '02968': 'Koln', # Köln-Stammheim\n",
        "    '01766': 'Münster(Westf)',\n",
        "    '02483': 'Dortmund', #Kahler Asten\n",
        "}\n",
        "\n",
        "# IDs de las estaciones a buscar\n",
        "station_ids = list(station_to_city.keys())\n",
        "\n",
        "# Realizar una solicitud GET a la página web\n",
        "response = requests.get(url)\n",
        "\n",
        "# Verificar que la solicitud fue exitosa\n",
        "if response.status_code == 200:\n",
        "    # Parsear el contenido HTML de la página web\n",
        "    soup = BeautifulSoup(response.content, 'html.parser')\n",
        "\n",
        "    # Encontrar todos los enlaces en la página\n",
        "    links = soup.find_all('a')\n",
        "\n",
        "        # Crear un set para rastrear archivos descargados\n",
        "    downloaded_files = set()\n",
        "\n",
        "    # Iterar sobre cada ID de estación\n",
        "    for station_id in station_ids:\n",
        "        # Buscar el enlace que contiene el ID de la estación\n",
        "        for link in links:\n",
        "            if f'10minutenwerte_extrema_temp_{station_id}_akt.zip' in link.get('href'):\n",
        "                file_url = url + link.get('href')\n",
        "                print(f\"Descargando el archivo desde {file_url}\")\n",
        "\n",
        "        #hacemos la descarga del archivo y guardamos en la cloud\n",
        "                file_name = link.get('href')\n",
        "                urllib.request.urlretrieve(file_url, file_name)\n",
        "                print(f\"Archivo {file_name} descargado exitosamente.\")\n",
        "\n",
        "                #Extraemos el archivo zip\n",
        "                with zipfile.ZipFile(file_name, 'r') as zip_ref:\n",
        "                    zip_ref.extractall(f\"/content/{station_id}\")\n",
        "\n",
        "                #renombramos y descargarmos archivos extraídos\n",
        "                extracted_files = os.listdir(f\"/content/{station_id}\")\n",
        "                for extracted_file in extracted_files:\n",
        "                    original_file_path = f\"/content/{station_id}/{extracted_file}\"\n",
        "                    city_name = station_to_city[station_id]\n",
        "                    new_file_name = f\"temperature_{city_name}_{station_id}.txt\"\n",
        "                    new_file_path = f\"/content/{station_id}/{new_file_name}\"\n",
        "\n",
        "                    #renombramos el archivo\n",
        "                    os.rename(original_file_path, new_file_path)\n",
        "\n",
        "                    #revisamos si el archivo ya fue descargado:\n",
        "                    if new_file_name not in downloaded_files:\n",
        "                        files.download(new_file_path)\n",
        "                        downloaded_files.add(new_file_name)\n",
        "                break\n",
        "else:\n",
        "    print(\"No se pudo acceder a la página web.\")\n"
      ],
      "metadata": {
        "id": "OfVKZxnyjz5x",
        "colab": {
          "base_uri": "https://localhost:8080/",
          "height": 745
        },
        "outputId": "7e9f1eae-b6f5-4294-8416-2a5d4fb24746"
      },
      "execution_count": 3,
      "outputs": [
        {
          "output_type": "stream",
          "name": "stdout",
          "text": [
            "Descargando el archivo desde https://opendata.dwd.de/climate_environment/CDC/observations_germany/climate/10_minutes/extreme_temperature/recent/10minutenwerte_extrema_temp_00433_akt.zip\n",
            "Archivo 10minutenwerte_extrema_temp_00433_akt.zip descargado exitosamente.\n"
          ]
        },
        {
          "output_type": "display_data",
          "data": {
            "text/plain": [
              "<IPython.core.display.Javascript object>"
            ],
            "application/javascript": [
              "\n",
              "    async function download(id, filename, size) {\n",
              "      if (!google.colab.kernel.accessAllowed) {\n",
              "        return;\n",
              "      }\n",
              "      const div = document.createElement('div');\n",
              "      const label = document.createElement('label');\n",
              "      label.textContent = `Downloading \"${filename}\": `;\n",
              "      div.appendChild(label);\n",
              "      const progress = document.createElement('progress');\n",
              "      progress.max = size;\n",
              "      div.appendChild(progress);\n",
              "      document.body.appendChild(div);\n",
              "\n",
              "      const buffers = [];\n",
              "      let downloaded = 0;\n",
              "\n",
              "      const channel = await google.colab.kernel.comms.open(id);\n",
              "      // Send a message to notify the kernel that we're ready.\n",
              "      channel.send({})\n",
              "\n",
              "      for await (const message of channel.messages) {\n",
              "        // Send a message to notify the kernel that we're ready.\n",
              "        channel.send({})\n",
              "        if (message.buffers) {\n",
              "          for (const buffer of message.buffers) {\n",
              "            buffers.push(buffer);\n",
              "            downloaded += buffer.byteLength;\n",
              "            progress.value = downloaded;\n",
              "          }\n",
              "        }\n",
              "      }\n",
              "      const blob = new Blob(buffers, {type: 'application/binary'});\n",
              "      const a = document.createElement('a');\n",
              "      a.href = window.URL.createObjectURL(blob);\n",
              "      a.download = filename;\n",
              "      div.appendChild(a);\n",
              "      a.click();\n",
              "      div.remove();\n",
              "    }\n",
              "  "
            ]
          },
          "metadata": {}
        },
        {
          "output_type": "display_data",
          "data": {
            "text/plain": [
              "<IPython.core.display.Javascript object>"
            ],
            "application/javascript": [
              "download(\"download_700e8263-1137-47cd-baa5-c265f4465ffc\", \"temperature_Berlin_00433.txt\", 5068311)"
            ]
          },
          "metadata": {}
        },
        {
          "output_type": "stream",
          "name": "stdout",
          "text": [
            "Descargando el archivo desde https://opendata.dwd.de/climate_environment/CDC/observations_germany/climate/10_minutes/extreme_temperature/recent/10minutenwerte_extrema_temp_01975_akt.zip\n",
            "Archivo 10minutenwerte_extrema_temp_01975_akt.zip descargado exitosamente.\n"
          ]
        },
        {
          "output_type": "display_data",
          "data": {
            "text/plain": [
              "<IPython.core.display.Javascript object>"
            ],
            "application/javascript": [
              "\n",
              "    async function download(id, filename, size) {\n",
              "      if (!google.colab.kernel.accessAllowed) {\n",
              "        return;\n",
              "      }\n",
              "      const div = document.createElement('div');\n",
              "      const label = document.createElement('label');\n",
              "      label.textContent = `Downloading \"${filename}\": `;\n",
              "      div.appendChild(label);\n",
              "      const progress = document.createElement('progress');\n",
              "      progress.max = size;\n",
              "      div.appendChild(progress);\n",
              "      document.body.appendChild(div);\n",
              "\n",
              "      const buffers = [];\n",
              "      let downloaded = 0;\n",
              "\n",
              "      const channel = await google.colab.kernel.comms.open(id);\n",
              "      // Send a message to notify the kernel that we're ready.\n",
              "      channel.send({})\n",
              "\n",
              "      for await (const message of channel.messages) {\n",
              "        // Send a message to notify the kernel that we're ready.\n",
              "        channel.send({})\n",
              "        if (message.buffers) {\n",
              "          for (const buffer of message.buffers) {\n",
              "            buffers.push(buffer);\n",
              "            downloaded += buffer.byteLength;\n",
              "            progress.value = downloaded;\n",
              "          }\n",
              "        }\n",
              "      }\n",
              "      const blob = new Blob(buffers, {type: 'application/binary'});\n",
              "      const a = document.createElement('a');\n",
              "      a.href = window.URL.createObjectURL(blob);\n",
              "      a.download = filename;\n",
              "      div.appendChild(a);\n",
              "      a.click();\n",
              "      div.remove();\n",
              "    }\n",
              "  "
            ]
          },
          "metadata": {}
        },
        {
          "output_type": "display_data",
          "data": {
            "text/plain": [
              "<IPython.core.display.Javascript object>"
            ],
            "application/javascript": [
              "download(\"download_c0870550-09e3-4cb3-bba2-f4c048282dab\", \"temperature_Hamburg_01975.txt\", 5068801)"
            ]
          },
          "metadata": {}
        },
        {
          "output_type": "stream",
          "name": "stdout",
          "text": [
            "Descargando el archivo desde https://opendata.dwd.de/climate_environment/CDC/observations_germany/climate/10_minutes/extreme_temperature/recent/10minutenwerte_extrema_temp_03379_akt.zip\n",
            "Archivo 10minutenwerte_extrema_temp_03379_akt.zip descargado exitosamente.\n"
          ]
        },
        {
          "output_type": "display_data",
          "data": {
            "text/plain": [
              "<IPython.core.display.Javascript object>"
            ],
            "application/javascript": [
              "\n",
              "    async function download(id, filename, size) {\n",
              "      if (!google.colab.kernel.accessAllowed) {\n",
              "        return;\n",
              "      }\n",
              "      const div = document.createElement('div');\n",
              "      const label = document.createElement('label');\n",
              "      label.textContent = `Downloading \"${filename}\": `;\n",
              "      div.appendChild(label);\n",
              "      const progress = document.createElement('progress');\n",
              "      progress.max = size;\n",
              "      div.appendChild(progress);\n",
              "      document.body.appendChild(div);\n",
              "\n",
              "      const buffers = [];\n",
              "      let downloaded = 0;\n",
              "\n",
              "      const channel = await google.colab.kernel.comms.open(id);\n",
              "      // Send a message to notify the kernel that we're ready.\n",
              "      channel.send({})\n",
              "\n",
              "      for await (const message of channel.messages) {\n",
              "        // Send a message to notify the kernel that we're ready.\n",
              "        channel.send({})\n",
              "        if (message.buffers) {\n",
              "          for (const buffer of message.buffers) {\n",
              "            buffers.push(buffer);\n",
              "            downloaded += buffer.byteLength;\n",
              "            progress.value = downloaded;\n",
              "          }\n",
              "        }\n",
              "      }\n",
              "      const blob = new Blob(buffers, {type: 'application/binary'});\n",
              "      const a = document.createElement('a');\n",
              "      a.href = window.URL.createObjectURL(blob);\n",
              "      a.download = filename;\n",
              "      div.appendChild(a);\n",
              "      a.click();\n",
              "      div.remove();\n",
              "    }\n",
              "  "
            ]
          },
          "metadata": {}
        },
        {
          "output_type": "display_data",
          "data": {
            "text/plain": [
              "<IPython.core.display.Javascript object>"
            ],
            "application/javascript": [
              "download(\"download_302ca8a2-b507-4b56-a079-20d188db8f8e\", \"temperature_Munchen_03379.txt\", 5068817)"
            ]
          },
          "metadata": {}
        },
        {
          "output_type": "stream",
          "name": "stdout",
          "text": [
            "Descargando el archivo desde https://opendata.dwd.de/climate_environment/CDC/observations_germany/climate/10_minutes/extreme_temperature/recent/10minutenwerte_extrema_temp_02667_akt.zip\n",
            "Archivo 10minutenwerte_extrema_temp_02667_akt.zip descargado exitosamente.\n"
          ]
        },
        {
          "output_type": "display_data",
          "data": {
            "text/plain": [
              "<IPython.core.display.Javascript object>"
            ],
            "application/javascript": [
              "\n",
              "    async function download(id, filename, size) {\n",
              "      if (!google.colab.kernel.accessAllowed) {\n",
              "        return;\n",
              "      }\n",
              "      const div = document.createElement('div');\n",
              "      const label = document.createElement('label');\n",
              "      label.textContent = `Downloading \"${filename}\": `;\n",
              "      div.appendChild(label);\n",
              "      const progress = document.createElement('progress');\n",
              "      progress.max = size;\n",
              "      div.appendChild(progress);\n",
              "      document.body.appendChild(div);\n",
              "\n",
              "      const buffers = [];\n",
              "      let downloaded = 0;\n",
              "\n",
              "      const channel = await google.colab.kernel.comms.open(id);\n",
              "      // Send a message to notify the kernel that we're ready.\n",
              "      channel.send({})\n",
              "\n",
              "      for await (const message of channel.messages) {\n",
              "        // Send a message to notify the kernel that we're ready.\n",
              "        channel.send({})\n",
              "        if (message.buffers) {\n",
              "          for (const buffer of message.buffers) {\n",
              "            buffers.push(buffer);\n",
              "            downloaded += buffer.byteLength;\n",
              "            progress.value = downloaded;\n",
              "          }\n",
              "        }\n",
              "      }\n",
              "      const blob = new Blob(buffers, {type: 'application/binary'});\n",
              "      const a = document.createElement('a');\n",
              "      a.href = window.URL.createObjectURL(blob);\n",
              "      a.download = filename;\n",
              "      div.appendChild(a);\n",
              "      a.click();\n",
              "      div.remove();\n",
              "    }\n",
              "  "
            ]
          },
          "metadata": {}
        },
        {
          "output_type": "display_data",
          "data": {
            "text/plain": [
              "<IPython.core.display.Javascript object>"
            ],
            "application/javascript": [
              "download(\"download_d0e4dff8-f579-4f4a-b399-d91cad4c5212\", \"temperature_Bonn_02667.txt\", 5068039)"
            ]
          },
          "metadata": {}
        },
        {
          "output_type": "stream",
          "name": "stdout",
          "text": [
            "Descargando el archivo desde https://opendata.dwd.de/climate_environment/CDC/observations_germany/climate/10_minutes/extreme_temperature/recent/10minutenwerte_extrema_temp_01420_akt.zip\n",
            "Archivo 10minutenwerte_extrema_temp_01420_akt.zip descargado exitosamente.\n"
          ]
        },
        {
          "output_type": "display_data",
          "data": {
            "text/plain": [
              "<IPython.core.display.Javascript object>"
            ],
            "application/javascript": [
              "\n",
              "    async function download(id, filename, size) {\n",
              "      if (!google.colab.kernel.accessAllowed) {\n",
              "        return;\n",
              "      }\n",
              "      const div = document.createElement('div');\n",
              "      const label = document.createElement('label');\n",
              "      label.textContent = `Downloading \"${filename}\": `;\n",
              "      div.appendChild(label);\n",
              "      const progress = document.createElement('progress');\n",
              "      progress.max = size;\n",
              "      div.appendChild(progress);\n",
              "      document.body.appendChild(div);\n",
              "\n",
              "      const buffers = [];\n",
              "      let downloaded = 0;\n",
              "\n",
              "      const channel = await google.colab.kernel.comms.open(id);\n",
              "      // Send a message to notify the kernel that we're ready.\n",
              "      channel.send({})\n",
              "\n",
              "      for await (const message of channel.messages) {\n",
              "        // Send a message to notify the kernel that we're ready.\n",
              "        channel.send({})\n",
              "        if (message.buffers) {\n",
              "          for (const buffer of message.buffers) {\n",
              "            buffers.push(buffer);\n",
              "            downloaded += buffer.byteLength;\n",
              "            progress.value = downloaded;\n",
              "          }\n",
              "        }\n",
              "      }\n",
              "      const blob = new Blob(buffers, {type: 'application/binary'});\n",
              "      const a = document.createElement('a');\n",
              "      a.href = window.URL.createObjectURL(blob);\n",
              "      a.download = filename;\n",
              "      div.appendChild(a);\n",
              "      a.click();\n",
              "      div.remove();\n",
              "    }\n",
              "  "
            ]
          },
          "metadata": {}
        },
        {
          "output_type": "display_data",
          "data": {
            "text/plain": [
              "<IPython.core.display.Javascript object>"
            ],
            "application/javascript": [
              "download(\"download_8557a5a5-7b4b-423f-bad7-e3f7513b3296\", \"temperature_Frankfurt_am_Main_01420.txt\", 5068779)"
            ]
          },
          "metadata": {}
        },
        {
          "output_type": "stream",
          "name": "stdout",
          "text": [
            "Descargando el archivo desde https://opendata.dwd.de/climate_environment/CDC/observations_germany/climate/10_minutes/extreme_temperature/recent/10minutenwerte_extrema_temp_04928_akt.zip\n",
            "Archivo 10minutenwerte_extrema_temp_04928_akt.zip descargado exitosamente.\n"
          ]
        },
        {
          "output_type": "display_data",
          "data": {
            "text/plain": [
              "<IPython.core.display.Javascript object>"
            ],
            "application/javascript": [
              "\n",
              "    async function download(id, filename, size) {\n",
              "      if (!google.colab.kernel.accessAllowed) {\n",
              "        return;\n",
              "      }\n",
              "      const div = document.createElement('div');\n",
              "      const label = document.createElement('label');\n",
              "      label.textContent = `Downloading \"${filename}\": `;\n",
              "      div.appendChild(label);\n",
              "      const progress = document.createElement('progress');\n",
              "      progress.max = size;\n",
              "      div.appendChild(progress);\n",
              "      document.body.appendChild(div);\n",
              "\n",
              "      const buffers = [];\n",
              "      let downloaded = 0;\n",
              "\n",
              "      const channel = await google.colab.kernel.comms.open(id);\n",
              "      // Send a message to notify the kernel that we're ready.\n",
              "      channel.send({})\n",
              "\n",
              "      for await (const message of channel.messages) {\n",
              "        // Send a message to notify the kernel that we're ready.\n",
              "        channel.send({})\n",
              "        if (message.buffers) {\n",
              "          for (const buffer of message.buffers) {\n",
              "            buffers.push(buffer);\n",
              "            downloaded += buffer.byteLength;\n",
              "            progress.value = downloaded;\n",
              "          }\n",
              "        }\n",
              "      }\n",
              "      const blob = new Blob(buffers, {type: 'application/binary'});\n",
              "      const a = document.createElement('a');\n",
              "      a.href = window.URL.createObjectURL(blob);\n",
              "      a.download = filename;\n",
              "      div.appendChild(a);\n",
              "      a.click();\n",
              "      div.remove();\n",
              "    }\n",
              "  "
            ]
          },
          "metadata": {}
        },
        {
          "output_type": "display_data",
          "data": {
            "text/plain": [
              "<IPython.core.display.Javascript object>"
            ],
            "application/javascript": [
              "download(\"download_fc7cd88e-0885-4409-b985-a12a6d2d7834\", \"temperature_Stuttgart_04928.txt\", 5067939)"
            ]
          },
          "metadata": {}
        },
        {
          "output_type": "stream",
          "name": "stdout",
          "text": [
            "Descargando el archivo desde https://opendata.dwd.de/climate_environment/CDC/observations_germany/climate/10_minutes/extreme_temperature/recent/10minutenwerte_extrema_temp_01078_akt.zip\n",
            "Archivo 10minutenwerte_extrema_temp_01078_akt.zip descargado exitosamente.\n"
          ]
        },
        {
          "output_type": "display_data",
          "data": {
            "text/plain": [
              "<IPython.core.display.Javascript object>"
            ],
            "application/javascript": [
              "\n",
              "    async function download(id, filename, size) {\n",
              "      if (!google.colab.kernel.accessAllowed) {\n",
              "        return;\n",
              "      }\n",
              "      const div = document.createElement('div');\n",
              "      const label = document.createElement('label');\n",
              "      label.textContent = `Downloading \"${filename}\": `;\n",
              "      div.appendChild(label);\n",
              "      const progress = document.createElement('progress');\n",
              "      progress.max = size;\n",
              "      div.appendChild(progress);\n",
              "      document.body.appendChild(div);\n",
              "\n",
              "      const buffers = [];\n",
              "      let downloaded = 0;\n",
              "\n",
              "      const channel = await google.colab.kernel.comms.open(id);\n",
              "      // Send a message to notify the kernel that we're ready.\n",
              "      channel.send({})\n",
              "\n",
              "      for await (const message of channel.messages) {\n",
              "        // Send a message to notify the kernel that we're ready.\n",
              "        channel.send({})\n",
              "        if (message.buffers) {\n",
              "          for (const buffer of message.buffers) {\n",
              "            buffers.push(buffer);\n",
              "            downloaded += buffer.byteLength;\n",
              "            progress.value = downloaded;\n",
              "          }\n",
              "        }\n",
              "      }\n",
              "      const blob = new Blob(buffers, {type: 'application/binary'});\n",
              "      const a = document.createElement('a');\n",
              "      a.href = window.URL.createObjectURL(blob);\n",
              "      a.download = filename;\n",
              "      div.appendChild(a);\n",
              "      a.click();\n",
              "      div.remove();\n",
              "    }\n",
              "  "
            ]
          },
          "metadata": {}
        },
        {
          "output_type": "display_data",
          "data": {
            "text/plain": [
              "<IPython.core.display.Javascript object>"
            ],
            "application/javascript": [
              "download(\"download_984b2e0c-adda-4186-a8ea-8dbeaad29645\", \"temperature_D\\u00fcsseldorf_01078.txt\", 5067085)"
            ]
          },
          "metadata": {}
        },
        {
          "output_type": "stream",
          "name": "stdout",
          "text": [
            "Descargando el archivo desde https://opendata.dwd.de/climate_environment/CDC/observations_germany/climate/10_minutes/extreme_temperature/recent/10minutenwerte_extrema_temp_02928_akt.zip\n",
            "Archivo 10minutenwerte_extrema_temp_02928_akt.zip descargado exitosamente.\n"
          ]
        },
        {
          "output_type": "display_data",
          "data": {
            "text/plain": [
              "<IPython.core.display.Javascript object>"
            ],
            "application/javascript": [
              "\n",
              "    async function download(id, filename, size) {\n",
              "      if (!google.colab.kernel.accessAllowed) {\n",
              "        return;\n",
              "      }\n",
              "      const div = document.createElement('div');\n",
              "      const label = document.createElement('label');\n",
              "      label.textContent = `Downloading \"${filename}\": `;\n",
              "      div.appendChild(label);\n",
              "      const progress = document.createElement('progress');\n",
              "      progress.max = size;\n",
              "      div.appendChild(progress);\n",
              "      document.body.appendChild(div);\n",
              "\n",
              "      const buffers = [];\n",
              "      let downloaded = 0;\n",
              "\n",
              "      const channel = await google.colab.kernel.comms.open(id);\n",
              "      // Send a message to notify the kernel that we're ready.\n",
              "      channel.send({})\n",
              "\n",
              "      for await (const message of channel.messages) {\n",
              "        // Send a message to notify the kernel that we're ready.\n",
              "        channel.send({})\n",
              "        if (message.buffers) {\n",
              "          for (const buffer of message.buffers) {\n",
              "            buffers.push(buffer);\n",
              "            downloaded += buffer.byteLength;\n",
              "            progress.value = downloaded;\n",
              "          }\n",
              "        }\n",
              "      }\n",
              "      const blob = new Blob(buffers, {type: 'application/binary'});\n",
              "      const a = document.createElement('a');\n",
              "      a.href = window.URL.createObjectURL(blob);\n",
              "      a.download = filename;\n",
              "      div.appendChild(a);\n",
              "      a.click();\n",
              "      div.remove();\n",
              "    }\n",
              "  "
            ]
          },
          "metadata": {}
        },
        {
          "output_type": "display_data",
          "data": {
            "text/plain": [
              "<IPython.core.display.Javascript object>"
            ],
            "application/javascript": [
              "download(\"download_764a65ed-97ce-42b5-ad8b-45ec388afc96\", \"temperature_Leipzig_02928.txt\", 5068859)"
            ]
          },
          "metadata": {}
        },
        {
          "output_type": "stream",
          "name": "stdout",
          "text": [
            "Descargando el archivo desde https://opendata.dwd.de/climate_environment/CDC/observations_germany/climate/10_minutes/extreme_temperature/recent/10minutenwerte_extrema_temp_01303_akt.zip\n",
            "Archivo 10minutenwerte_extrema_temp_01303_akt.zip descargado exitosamente.\n"
          ]
        },
        {
          "output_type": "display_data",
          "data": {
            "text/plain": [
              "<IPython.core.display.Javascript object>"
            ],
            "application/javascript": [
              "\n",
              "    async function download(id, filename, size) {\n",
              "      if (!google.colab.kernel.accessAllowed) {\n",
              "        return;\n",
              "      }\n",
              "      const div = document.createElement('div');\n",
              "      const label = document.createElement('label');\n",
              "      label.textContent = `Downloading \"${filename}\": `;\n",
              "      div.appendChild(label);\n",
              "      const progress = document.createElement('progress');\n",
              "      progress.max = size;\n",
              "      div.appendChild(progress);\n",
              "      document.body.appendChild(div);\n",
              "\n",
              "      const buffers = [];\n",
              "      let downloaded = 0;\n",
              "\n",
              "      const channel = await google.colab.kernel.comms.open(id);\n",
              "      // Send a message to notify the kernel that we're ready.\n",
              "      channel.send({})\n",
              "\n",
              "      for await (const message of channel.messages) {\n",
              "        // Send a message to notify the kernel that we're ready.\n",
              "        channel.send({})\n",
              "        if (message.buffers) {\n",
              "          for (const buffer of message.buffers) {\n",
              "            buffers.push(buffer);\n",
              "            downloaded += buffer.byteLength;\n",
              "            progress.value = downloaded;\n",
              "          }\n",
              "        }\n",
              "      }\n",
              "      const blob = new Blob(buffers, {type: 'application/binary'});\n",
              "      const a = document.createElement('a');\n",
              "      a.href = window.URL.createObjectURL(blob);\n",
              "      a.download = filename;\n",
              "      div.appendChild(a);\n",
              "      a.click();\n",
              "      div.remove();\n",
              "    }\n",
              "  "
            ]
          },
          "metadata": {}
        },
        {
          "output_type": "display_data",
          "data": {
            "text/plain": [
              "<IPython.core.display.Javascript object>"
            ],
            "application/javascript": [
              "download(\"download_6518aa99-8017-40d3-a4a6-67ce8a231c48\", \"temperature_Essen_01303.txt\", 5068859)"
            ]
          },
          "metadata": {}
        },
        {
          "output_type": "stream",
          "name": "stdout",
          "text": [
            "Descargando el archivo desde https://opendata.dwd.de/climate_environment/CDC/observations_germany/climate/10_minutes/extreme_temperature/recent/10minutenwerte_extrema_temp_00691_akt.zip\n",
            "Archivo 10minutenwerte_extrema_temp_00691_akt.zip descargado exitosamente.\n"
          ]
        },
        {
          "output_type": "display_data",
          "data": {
            "text/plain": [
              "<IPython.core.display.Javascript object>"
            ],
            "application/javascript": [
              "\n",
              "    async function download(id, filename, size) {\n",
              "      if (!google.colab.kernel.accessAllowed) {\n",
              "        return;\n",
              "      }\n",
              "      const div = document.createElement('div');\n",
              "      const label = document.createElement('label');\n",
              "      label.textContent = `Downloading \"${filename}\": `;\n",
              "      div.appendChild(label);\n",
              "      const progress = document.createElement('progress');\n",
              "      progress.max = size;\n",
              "      div.appendChild(progress);\n",
              "      document.body.appendChild(div);\n",
              "\n",
              "      const buffers = [];\n",
              "      let downloaded = 0;\n",
              "\n",
              "      const channel = await google.colab.kernel.comms.open(id);\n",
              "      // Send a message to notify the kernel that we're ready.\n",
              "      channel.send({})\n",
              "\n",
              "      for await (const message of channel.messages) {\n",
              "        // Send a message to notify the kernel that we're ready.\n",
              "        channel.send({})\n",
              "        if (message.buffers) {\n",
              "          for (const buffer of message.buffers) {\n",
              "            buffers.push(buffer);\n",
              "            downloaded += buffer.byteLength;\n",
              "            progress.value = downloaded;\n",
              "          }\n",
              "        }\n",
              "      }\n",
              "      const blob = new Blob(buffers, {type: 'application/binary'});\n",
              "      const a = document.createElement('a');\n",
              "      a.href = window.URL.createObjectURL(blob);\n",
              "      a.download = filename;\n",
              "      div.appendChild(a);\n",
              "      a.click();\n",
              "      div.remove();\n",
              "    }\n",
              "  "
            ]
          },
          "metadata": {}
        },
        {
          "output_type": "display_data",
          "data": {
            "text/plain": [
              "<IPython.core.display.Javascript object>"
            ],
            "application/javascript": [
              "download(\"download_e09fefc6-6a93-4452-8c6f-18cf3f288834\", \"temperature_Bremen_00691.txt\", 5064463)"
            ]
          },
          "metadata": {}
        },
        {
          "output_type": "stream",
          "name": "stdout",
          "text": [
            "Descargando el archivo desde https://opendata.dwd.de/climate_environment/CDC/observations_germany/climate/10_minutes/extreme_temperature/recent/10minutenwerte_extrema_temp_01048_akt.zip\n",
            "Archivo 10minutenwerte_extrema_temp_01048_akt.zip descargado exitosamente.\n"
          ]
        },
        {
          "output_type": "display_data",
          "data": {
            "text/plain": [
              "<IPython.core.display.Javascript object>"
            ],
            "application/javascript": [
              "\n",
              "    async function download(id, filename, size) {\n",
              "      if (!google.colab.kernel.accessAllowed) {\n",
              "        return;\n",
              "      }\n",
              "      const div = document.createElement('div');\n",
              "      const label = document.createElement('label');\n",
              "      label.textContent = `Downloading \"${filename}\": `;\n",
              "      div.appendChild(label);\n",
              "      const progress = document.createElement('progress');\n",
              "      progress.max = size;\n",
              "      div.appendChild(progress);\n",
              "      document.body.appendChild(div);\n",
              "\n",
              "      const buffers = [];\n",
              "      let downloaded = 0;\n",
              "\n",
              "      const channel = await google.colab.kernel.comms.open(id);\n",
              "      // Send a message to notify the kernel that we're ready.\n",
              "      channel.send({})\n",
              "\n",
              "      for await (const message of channel.messages) {\n",
              "        // Send a message to notify the kernel that we're ready.\n",
              "        channel.send({})\n",
              "        if (message.buffers) {\n",
              "          for (const buffer of message.buffers) {\n",
              "            buffers.push(buffer);\n",
              "            downloaded += buffer.byteLength;\n",
              "            progress.value = downloaded;\n",
              "          }\n",
              "        }\n",
              "      }\n",
              "      const blob = new Blob(buffers, {type: 'application/binary'});\n",
              "      const a = document.createElement('a');\n",
              "      a.href = window.URL.createObjectURL(blob);\n",
              "      a.download = filename;\n",
              "      div.appendChild(a);\n",
              "      a.click();\n",
              "      div.remove();\n",
              "    }\n",
              "  "
            ]
          },
          "metadata": {}
        },
        {
          "output_type": "display_data",
          "data": {
            "text/plain": [
              "<IPython.core.display.Javascript object>"
            ],
            "application/javascript": [
              "download(\"download_07eaca17-75bd-41ff-b924-0d1b21be5e48\", \"temperature_Dresden_01048.txt\", 5068859)"
            ]
          },
          "metadata": {}
        },
        {
          "output_type": "stream",
          "name": "stdout",
          "text": [
            "Descargando el archivo desde https://opendata.dwd.de/climate_environment/CDC/observations_germany/climate/10_minutes/extreme_temperature/recent/10minutenwerte_extrema_temp_02014_akt.zip\n",
            "Archivo 10minutenwerte_extrema_temp_02014_akt.zip descargado exitosamente.\n"
          ]
        },
        {
          "output_type": "display_data",
          "data": {
            "text/plain": [
              "<IPython.core.display.Javascript object>"
            ],
            "application/javascript": [
              "\n",
              "    async function download(id, filename, size) {\n",
              "      if (!google.colab.kernel.accessAllowed) {\n",
              "        return;\n",
              "      }\n",
              "      const div = document.createElement('div');\n",
              "      const label = document.createElement('label');\n",
              "      label.textContent = `Downloading \"${filename}\": `;\n",
              "      div.appendChild(label);\n",
              "      const progress = document.createElement('progress');\n",
              "      progress.max = size;\n",
              "      div.appendChild(progress);\n",
              "      document.body.appendChild(div);\n",
              "\n",
              "      const buffers = [];\n",
              "      let downloaded = 0;\n",
              "\n",
              "      const channel = await google.colab.kernel.comms.open(id);\n",
              "      // Send a message to notify the kernel that we're ready.\n",
              "      channel.send({})\n",
              "\n",
              "      for await (const message of channel.messages) {\n",
              "        // Send a message to notify the kernel that we're ready.\n",
              "        channel.send({})\n",
              "        if (message.buffers) {\n",
              "          for (const buffer of message.buffers) {\n",
              "            buffers.push(buffer);\n",
              "            downloaded += buffer.byteLength;\n",
              "            progress.value = downloaded;\n",
              "          }\n",
              "        }\n",
              "      }\n",
              "      const blob = new Blob(buffers, {type: 'application/binary'});\n",
              "      const a = document.createElement('a');\n",
              "      a.href = window.URL.createObjectURL(blob);\n",
              "      a.download = filename;\n",
              "      div.appendChild(a);\n",
              "      a.click();\n",
              "      div.remove();\n",
              "    }\n",
              "  "
            ]
          },
          "metadata": {}
        },
        {
          "output_type": "display_data",
          "data": {
            "text/plain": [
              "<IPython.core.display.Javascript object>"
            ],
            "application/javascript": [
              "download(\"download_17da936e-7f13-4e56-9b2d-5bd9a28cd8c4\", \"temperature_Hannover_02014.txt\", 5067127)"
            ]
          },
          "metadata": {}
        },
        {
          "output_type": "stream",
          "name": "stdout",
          "text": [
            "Descargando el archivo desde https://opendata.dwd.de/climate_environment/CDC/observations_germany/climate/10_minutes/extreme_temperature/recent/10minutenwerte_extrema_temp_03668_akt.zip\n",
            "Archivo 10minutenwerte_extrema_temp_03668_akt.zip descargado exitosamente.\n"
          ]
        },
        {
          "output_type": "display_data",
          "data": {
            "text/plain": [
              "<IPython.core.display.Javascript object>"
            ],
            "application/javascript": [
              "\n",
              "    async function download(id, filename, size) {\n",
              "      if (!google.colab.kernel.accessAllowed) {\n",
              "        return;\n",
              "      }\n",
              "      const div = document.createElement('div');\n",
              "      const label = document.createElement('label');\n",
              "      label.textContent = `Downloading \"${filename}\": `;\n",
              "      div.appendChild(label);\n",
              "      const progress = document.createElement('progress');\n",
              "      progress.max = size;\n",
              "      div.appendChild(progress);\n",
              "      document.body.appendChild(div);\n",
              "\n",
              "      const buffers = [];\n",
              "      let downloaded = 0;\n",
              "\n",
              "      const channel = await google.colab.kernel.comms.open(id);\n",
              "      // Send a message to notify the kernel that we're ready.\n",
              "      channel.send({})\n",
              "\n",
              "      for await (const message of channel.messages) {\n",
              "        // Send a message to notify the kernel that we're ready.\n",
              "        channel.send({})\n",
              "        if (message.buffers) {\n",
              "          for (const buffer of message.buffers) {\n",
              "            buffers.push(buffer);\n",
              "            downloaded += buffer.byteLength;\n",
              "            progress.value = downloaded;\n",
              "          }\n",
              "        }\n",
              "      }\n",
              "      const blob = new Blob(buffers, {type: 'application/binary'});\n",
              "      const a = document.createElement('a');\n",
              "      a.href = window.URL.createObjectURL(blob);\n",
              "      a.download = filename;\n",
              "      div.appendChild(a);\n",
              "      a.click();\n",
              "      div.remove();\n",
              "    }\n",
              "  "
            ]
          },
          "metadata": {}
        },
        {
          "output_type": "display_data",
          "data": {
            "text/plain": [
              "<IPython.core.display.Javascript object>"
            ],
            "application/javascript": [
              "download(\"download_7a3c467c-5b6f-4e5d-8510-fef2c0bb95b9\", \"temperature_N\\u00fcrnberg_03668.txt\", 5068681)"
            ]
          },
          "metadata": {}
        },
        {
          "output_type": "stream",
          "name": "stdout",
          "text": [
            "Descargando el archivo desde https://opendata.dwd.de/climate_environment/CDC/observations_germany/climate/10_minutes/extreme_temperature/recent/10minutenwerte_extrema_temp_13670_akt.zip\n",
            "Archivo 10minutenwerte_extrema_temp_13670_akt.zip descargado exitosamente.\n"
          ]
        },
        {
          "output_type": "display_data",
          "data": {
            "text/plain": [
              "<IPython.core.display.Javascript object>"
            ],
            "application/javascript": [
              "\n",
              "    async function download(id, filename, size) {\n",
              "      if (!google.colab.kernel.accessAllowed) {\n",
              "        return;\n",
              "      }\n",
              "      const div = document.createElement('div');\n",
              "      const label = document.createElement('label');\n",
              "      label.textContent = `Downloading \"${filename}\": `;\n",
              "      div.appendChild(label);\n",
              "      const progress = document.createElement('progress');\n",
              "      progress.max = size;\n",
              "      div.appendChild(progress);\n",
              "      document.body.appendChild(div);\n",
              "\n",
              "      const buffers = [];\n",
              "      let downloaded = 0;\n",
              "\n",
              "      const channel = await google.colab.kernel.comms.open(id);\n",
              "      // Send a message to notify the kernel that we're ready.\n",
              "      channel.send({})\n",
              "\n",
              "      for await (const message of channel.messages) {\n",
              "        // Send a message to notify the kernel that we're ready.\n",
              "        channel.send({})\n",
              "        if (message.buffers) {\n",
              "          for (const buffer of message.buffers) {\n",
              "            buffers.push(buffer);\n",
              "            downloaded += buffer.byteLength;\n",
              "            progress.value = downloaded;\n",
              "          }\n",
              "        }\n",
              "      }\n",
              "      const blob = new Blob(buffers, {type: 'application/binary'});\n",
              "      const a = document.createElement('a');\n",
              "      a.href = window.URL.createObjectURL(blob);\n",
              "      a.download = filename;\n",
              "      div.appendChild(a);\n",
              "      a.click();\n",
              "      div.remove();\n",
              "    }\n",
              "  "
            ]
          },
          "metadata": {}
        },
        {
          "output_type": "display_data",
          "data": {
            "text/plain": [
              "<IPython.core.display.Javascript object>"
            ],
            "application/javascript": [
              "download(\"download_3eeecb07-ca83-4b47-8ab9-6497dbf6b118\", \"temperature_Duisburg_13670.txt\", 5068627)"
            ]
          },
          "metadata": {}
        },
        {
          "output_type": "stream",
          "name": "stdout",
          "text": [
            "Descargando el archivo desde https://opendata.dwd.de/climate_environment/CDC/observations_germany/climate/10_minutes/extreme_temperature/recent/10minutenwerte_extrema_temp_00555_akt.zip\n",
            "Archivo 10minutenwerte_extrema_temp_00555_akt.zip descargado exitosamente.\n"
          ]
        },
        {
          "output_type": "display_data",
          "data": {
            "text/plain": [
              "<IPython.core.display.Javascript object>"
            ],
            "application/javascript": [
              "\n",
              "    async function download(id, filename, size) {\n",
              "      if (!google.colab.kernel.accessAllowed) {\n",
              "        return;\n",
              "      }\n",
              "      const div = document.createElement('div');\n",
              "      const label = document.createElement('label');\n",
              "      label.textContent = `Downloading \"${filename}\": `;\n",
              "      div.appendChild(label);\n",
              "      const progress = document.createElement('progress');\n",
              "      progress.max = size;\n",
              "      div.appendChild(progress);\n",
              "      document.body.appendChild(div);\n",
              "\n",
              "      const buffers = [];\n",
              "      let downloaded = 0;\n",
              "\n",
              "      const channel = await google.colab.kernel.comms.open(id);\n",
              "      // Send a message to notify the kernel that we're ready.\n",
              "      channel.send({})\n",
              "\n",
              "      for await (const message of channel.messages) {\n",
              "        // Send a message to notify the kernel that we're ready.\n",
              "        channel.send({})\n",
              "        if (message.buffers) {\n",
              "          for (const buffer of message.buffers) {\n",
              "            buffers.push(buffer);\n",
              "            downloaded += buffer.byteLength;\n",
              "            progress.value = downloaded;\n",
              "          }\n",
              "        }\n",
              "      }\n",
              "      const blob = new Blob(buffers, {type: 'application/binary'});\n",
              "      const a = document.createElement('a');\n",
              "      a.href = window.URL.createObjectURL(blob);\n",
              "      a.download = filename;\n",
              "      div.appendChild(a);\n",
              "      a.click();\n",
              "      div.remove();\n",
              "    }\n",
              "  "
            ]
          },
          "metadata": {}
        },
        {
          "output_type": "display_data",
          "data": {
            "text/plain": [
              "<IPython.core.display.Javascript object>"
            ],
            "application/javascript": [
              "download(\"download_ff5b8a8d-10ff-4865-a663-f7f20a5842b8\", \"temperature_Bochum_00555.txt\", 5068859)"
            ]
          },
          "metadata": {}
        },
        {
          "output_type": "stream",
          "name": "stdout",
          "text": [
            "Descargando el archivo desde https://opendata.dwd.de/climate_environment/CDC/observations_germany/climate/10_minutes/extreme_temperature/recent/10minutenwerte_extrema_temp_05717_akt.zip\n",
            "Archivo 10minutenwerte_extrema_temp_05717_akt.zip descargado exitosamente.\n"
          ]
        },
        {
          "output_type": "display_data",
          "data": {
            "text/plain": [
              "<IPython.core.display.Javascript object>"
            ],
            "application/javascript": [
              "\n",
              "    async function download(id, filename, size) {\n",
              "      if (!google.colab.kernel.accessAllowed) {\n",
              "        return;\n",
              "      }\n",
              "      const div = document.createElement('div');\n",
              "      const label = document.createElement('label');\n",
              "      label.textContent = `Downloading \"${filename}\": `;\n",
              "      div.appendChild(label);\n",
              "      const progress = document.createElement('progress');\n",
              "      progress.max = size;\n",
              "      div.appendChild(progress);\n",
              "      document.body.appendChild(div);\n",
              "\n",
              "      const buffers = [];\n",
              "      let downloaded = 0;\n",
              "\n",
              "      const channel = await google.colab.kernel.comms.open(id);\n",
              "      // Send a message to notify the kernel that we're ready.\n",
              "      channel.send({})\n",
              "\n",
              "      for await (const message of channel.messages) {\n",
              "        // Send a message to notify the kernel that we're ready.\n",
              "        channel.send({})\n",
              "        if (message.buffers) {\n",
              "          for (const buffer of message.buffers) {\n",
              "            buffers.push(buffer);\n",
              "            downloaded += buffer.byteLength;\n",
              "            progress.value = downloaded;\n",
              "          }\n",
              "        }\n",
              "      }\n",
              "      const blob = new Blob(buffers, {type: 'application/binary'});\n",
              "      const a = document.createElement('a');\n",
              "      a.href = window.URL.createObjectURL(blob);\n",
              "      a.download = filename;\n",
              "      div.appendChild(a);\n",
              "      a.click();\n",
              "      div.remove();\n",
              "    }\n",
              "  "
            ]
          },
          "metadata": {}
        },
        {
          "output_type": "display_data",
          "data": {
            "text/plain": [
              "<IPython.core.display.Javascript object>"
            ],
            "application/javascript": [
              "download(\"download_e2589a72-cbc1-40c4-ac59-ce2c122deca3\", \"temperature_Wuppertal_05717.txt\", 5068859)"
            ]
          },
          "metadata": {}
        },
        {
          "output_type": "stream",
          "name": "stdout",
          "text": [
            "Descargando el archivo desde https://opendata.dwd.de/climate_environment/CDC/observations_germany/climate/10_minutes/extreme_temperature/recent/10minutenwerte_extrema_temp_07106_akt.zip\n",
            "Archivo 10minutenwerte_extrema_temp_07106_akt.zip descargado exitosamente.\n"
          ]
        },
        {
          "output_type": "display_data",
          "data": {
            "text/plain": [
              "<IPython.core.display.Javascript object>"
            ],
            "application/javascript": [
              "\n",
              "    async function download(id, filename, size) {\n",
              "      if (!google.colab.kernel.accessAllowed) {\n",
              "        return;\n",
              "      }\n",
              "      const div = document.createElement('div');\n",
              "      const label = document.createElement('label');\n",
              "      label.textContent = `Downloading \"${filename}\": `;\n",
              "      div.appendChild(label);\n",
              "      const progress = document.createElement('progress');\n",
              "      progress.max = size;\n",
              "      div.appendChild(progress);\n",
              "      document.body.appendChild(div);\n",
              "\n",
              "      const buffers = [];\n",
              "      let downloaded = 0;\n",
              "\n",
              "      const channel = await google.colab.kernel.comms.open(id);\n",
              "      // Send a message to notify the kernel that we're ready.\n",
              "      channel.send({})\n",
              "\n",
              "      for await (const message of channel.messages) {\n",
              "        // Send a message to notify the kernel that we're ready.\n",
              "        channel.send({})\n",
              "        if (message.buffers) {\n",
              "          for (const buffer of message.buffers) {\n",
              "            buffers.push(buffer);\n",
              "            downloaded += buffer.byteLength;\n",
              "            progress.value = downloaded;\n",
              "          }\n",
              "        }\n",
              "      }\n",
              "      const blob = new Blob(buffers, {type: 'application/binary'});\n",
              "      const a = document.createElement('a');\n",
              "      a.href = window.URL.createObjectURL(blob);\n",
              "      a.download = filename;\n",
              "      div.appendChild(a);\n",
              "      a.click();\n",
              "      div.remove();\n",
              "    }\n",
              "  "
            ]
          },
          "metadata": {}
        },
        {
          "output_type": "display_data",
          "data": {
            "text/plain": [
              "<IPython.core.display.Javascript object>"
            ],
            "application/javascript": [
              "download(\"download_bd77e046-e991-4256-8e10-3700320f6fb3\", \"temperature_Bielefeld_07106.txt\", 5068851)"
            ]
          },
          "metadata": {}
        },
        {
          "output_type": "stream",
          "name": "stdout",
          "text": [
            "Descargando el archivo desde https://opendata.dwd.de/climate_environment/CDC/observations_germany/climate/10_minutes/extreme_temperature/recent/10minutenwerte_extrema_temp_02968_akt.zip\n",
            "Archivo 10minutenwerte_extrema_temp_02968_akt.zip descargado exitosamente.\n"
          ]
        },
        {
          "output_type": "display_data",
          "data": {
            "text/plain": [
              "<IPython.core.display.Javascript object>"
            ],
            "application/javascript": [
              "\n",
              "    async function download(id, filename, size) {\n",
              "      if (!google.colab.kernel.accessAllowed) {\n",
              "        return;\n",
              "      }\n",
              "      const div = document.createElement('div');\n",
              "      const label = document.createElement('label');\n",
              "      label.textContent = `Downloading \"${filename}\": `;\n",
              "      div.appendChild(label);\n",
              "      const progress = document.createElement('progress');\n",
              "      progress.max = size;\n",
              "      div.appendChild(progress);\n",
              "      document.body.appendChild(div);\n",
              "\n",
              "      const buffers = [];\n",
              "      let downloaded = 0;\n",
              "\n",
              "      const channel = await google.colab.kernel.comms.open(id);\n",
              "      // Send a message to notify the kernel that we're ready.\n",
              "      channel.send({})\n",
              "\n",
              "      for await (const message of channel.messages) {\n",
              "        // Send a message to notify the kernel that we're ready.\n",
              "        channel.send({})\n",
              "        if (message.buffers) {\n",
              "          for (const buffer of message.buffers) {\n",
              "            buffers.push(buffer);\n",
              "            downloaded += buffer.byteLength;\n",
              "            progress.value = downloaded;\n",
              "          }\n",
              "        }\n",
              "      }\n",
              "      const blob = new Blob(buffers, {type: 'application/binary'});\n",
              "      const a = document.createElement('a');\n",
              "      a.href = window.URL.createObjectURL(blob);\n",
              "      a.download = filename;\n",
              "      div.appendChild(a);\n",
              "      a.click();\n",
              "      div.remove();\n",
              "    }\n",
              "  "
            ]
          },
          "metadata": {}
        },
        {
          "output_type": "display_data",
          "data": {
            "text/plain": [
              "<IPython.core.display.Javascript object>"
            ],
            "application/javascript": [
              "download(\"download_3c7f13f7-de49-4329-ad5b-827990a3a882\", \"temperature_Koln_02968.txt\", 5061947)"
            ]
          },
          "metadata": {}
        },
        {
          "output_type": "stream",
          "name": "stdout",
          "text": [
            "Descargando el archivo desde https://opendata.dwd.de/climate_environment/CDC/observations_germany/climate/10_minutes/extreme_temperature/recent/10minutenwerte_extrema_temp_01766_akt.zip\n",
            "Archivo 10minutenwerte_extrema_temp_01766_akt.zip descargado exitosamente.\n"
          ]
        },
        {
          "output_type": "display_data",
          "data": {
            "text/plain": [
              "<IPython.core.display.Javascript object>"
            ],
            "application/javascript": [
              "\n",
              "    async function download(id, filename, size) {\n",
              "      if (!google.colab.kernel.accessAllowed) {\n",
              "        return;\n",
              "      }\n",
              "      const div = document.createElement('div');\n",
              "      const label = document.createElement('label');\n",
              "      label.textContent = `Downloading \"${filename}\": `;\n",
              "      div.appendChild(label);\n",
              "      const progress = document.createElement('progress');\n",
              "      progress.max = size;\n",
              "      div.appendChild(progress);\n",
              "      document.body.appendChild(div);\n",
              "\n",
              "      const buffers = [];\n",
              "      let downloaded = 0;\n",
              "\n",
              "      const channel = await google.colab.kernel.comms.open(id);\n",
              "      // Send a message to notify the kernel that we're ready.\n",
              "      channel.send({})\n",
              "\n",
              "      for await (const message of channel.messages) {\n",
              "        // Send a message to notify the kernel that we're ready.\n",
              "        channel.send({})\n",
              "        if (message.buffers) {\n",
              "          for (const buffer of message.buffers) {\n",
              "            buffers.push(buffer);\n",
              "            downloaded += buffer.byteLength;\n",
              "            progress.value = downloaded;\n",
              "          }\n",
              "        }\n",
              "      }\n",
              "      const blob = new Blob(buffers, {type: 'application/binary'});\n",
              "      const a = document.createElement('a');\n",
              "      a.href = window.URL.createObjectURL(blob);\n",
              "      a.download = filename;\n",
              "      div.appendChild(a);\n",
              "      a.click();\n",
              "      div.remove();\n",
              "    }\n",
              "  "
            ]
          },
          "metadata": {}
        },
        {
          "output_type": "display_data",
          "data": {
            "text/plain": [
              "<IPython.core.display.Javascript object>"
            ],
            "application/javascript": [
              "download(\"download_632ef2ba-3026-42e0-9006-4ba172b905fb\", \"temperature_M\\u00fcnster(Westf)_01766.txt\", 5068657)"
            ]
          },
          "metadata": {}
        },
        {
          "output_type": "stream",
          "name": "stdout",
          "text": [
            "Descargando el archivo desde https://opendata.dwd.de/climate_environment/CDC/observations_germany/climate/10_minutes/extreme_temperature/recent/10minutenwerte_extrema_temp_02483_akt.zip\n",
            "Archivo 10minutenwerte_extrema_temp_02483_akt.zip descargado exitosamente.\n"
          ]
        },
        {
          "output_type": "display_data",
          "data": {
            "text/plain": [
              "<IPython.core.display.Javascript object>"
            ],
            "application/javascript": [
              "\n",
              "    async function download(id, filename, size) {\n",
              "      if (!google.colab.kernel.accessAllowed) {\n",
              "        return;\n",
              "      }\n",
              "      const div = document.createElement('div');\n",
              "      const label = document.createElement('label');\n",
              "      label.textContent = `Downloading \"${filename}\": `;\n",
              "      div.appendChild(label);\n",
              "      const progress = document.createElement('progress');\n",
              "      progress.max = size;\n",
              "      div.appendChild(progress);\n",
              "      document.body.appendChild(div);\n",
              "\n",
              "      const buffers = [];\n",
              "      let downloaded = 0;\n",
              "\n",
              "      const channel = await google.colab.kernel.comms.open(id);\n",
              "      // Send a message to notify the kernel that we're ready.\n",
              "      channel.send({})\n",
              "\n",
              "      for await (const message of channel.messages) {\n",
              "        // Send a message to notify the kernel that we're ready.\n",
              "        channel.send({})\n",
              "        if (message.buffers) {\n",
              "          for (const buffer of message.buffers) {\n",
              "            buffers.push(buffer);\n",
              "            downloaded += buffer.byteLength;\n",
              "            progress.value = downloaded;\n",
              "          }\n",
              "        }\n",
              "      }\n",
              "      const blob = new Blob(buffers, {type: 'application/binary'});\n",
              "      const a = document.createElement('a');\n",
              "      a.href = window.URL.createObjectURL(blob);\n",
              "      a.download = filename;\n",
              "      div.appendChild(a);\n",
              "      a.click();\n",
              "      div.remove();\n",
              "    }\n",
              "  "
            ]
          },
          "metadata": {}
        },
        {
          "output_type": "display_data",
          "data": {
            "text/plain": [
              "<IPython.core.display.Javascript object>"
            ],
            "application/javascript": [
              "download(\"download_2b3c473e-6ff1-4de6-b385-42be05c68997\", \"temperature_Dortmund_02483.txt\", 5060895)"
            ]
          },
          "metadata": {}
        }
      ]
    },
    {
      "cell_type": "markdown",
      "source": [
        "**RAIN - PRECIPITACION**"
      ],
      "metadata": {
        "id": "t7ei8ESzXuEg"
      }
    },
    {
      "cell_type": "code",
      "source": [
        "#######                                          R A I N         -     P R E C I P I T A C I O N\n",
        "\n",
        "# URL de la página web\n",
        "url = \"https://opendata.dwd.de/climate_environment/CDC/observations_germany/climate/hourly/precipitation/recent/\"\n",
        "\n",
        "# Mapeo de IDs de estaciones a nombres de ciudades\n",
        "station_to_city = {\n",
        "    '00433': 'Berlin',\n",
        "    '01975': 'Hamburg',\n",
        "    '03379': 'Munchen',\n",
        "    '02667': 'Bonn',\n",
        "    '01420': 'Frankfurt_am_Main',\n",
        "    '04928': 'Stuttgart',\n",
        "    '01078': 'Düsseldorf',\n",
        "    '02928': 'Leipzig',\n",
        "    '01303': 'Essen',\n",
        "    '00691': 'Bremen',\n",
        "    '01048': 'Dresden',\n",
        "    '02014': 'Hannover',\n",
        "    '03668': 'Nürnberg',\n",
        "    '13670': 'Duisburg',\n",
        "    '00555': 'Bochum',\n",
        "    '05717': 'Wuppertal',\n",
        "    '07106': 'Bielefeld',\n",
        "    '02968': 'Koln', # Köln-Stammheim\n",
        "    '01766': 'Münster(Westf)',\n",
        "    '02483': 'Dortmund', #Kahler Asten\n",
        "}\n",
        "\n",
        "# IDs de las estaciones a buscar\n",
        "station_ids = list(station_to_city.keys())\n",
        "\n",
        "# Crear directorio para guardar los archivos si no existe\n",
        "upload_dir = \"/content/lluvia\"\n",
        "os.makedirs(upload_dir, exist_ok=True)\n",
        "\n",
        "# Realizar una solicitud GET a la página web\n",
        "response = requests.get(url)\n",
        "\n",
        "# Verificar que la solicitud fue exitosa\n",
        "if response.status_code == 200:\n",
        "    # Parsear el contenido HTML de la página web\n",
        "    soup = BeautifulSoup(response.content, 'html.parser')\n",
        "\n",
        "    # Encontrar todos los enlaces en la página\n",
        "    links = soup.find_all('a')\n",
        "\n",
        "    # Crear un set para rastrear archivos descargados\n",
        "    downloaded_files = set()\n",
        "\n",
        "    # Iterar sobre cada ID de estación\n",
        "    for station_id in station_ids:\n",
        "        # Buscar el enlace que contiene el ID de la estación\n",
        "        for link in links:\n",
        "            if f'stundenwerte_RR_{station_id}_akt.zip' in link.get('href'):\n",
        "                file_url = url + link.get('href')\n",
        "                print(f\"Descargando el archivo desde {file_url}\")\n",
        "\n",
        "                # Descargar el archivo y guardarlo\n",
        "                file_name = link.get('href').split('/')[-1]\n",
        "                local_zip_path = os.path.join(upload_dir, file_name)\n",
        "                urllib.request.urlretrieve(file_url, local_zip_path)\n",
        "                print(f\"Archivo {file_name} descargado exitosamente.\")\n",
        "\n",
        "                # Extraer el archivo zip\n",
        "                with zipfile.ZipFile(local_zip_path, 'r') as zip_ref:\n",
        "                    zip_ref.extractall(upload_dir)\n",
        "\n",
        "                # Renombrar y descargar el archivo relevante\n",
        "                extracted_files = os.listdir(upload_dir)\n",
        "                for extracted_file in extracted_files:\n",
        "                    if extracted_file.startswith(\"produkt_rr_stunde\") and extracted_file.endswith(\".txt\"):\n",
        "                        original_file_path = os.path.join(upload_dir, extracted_file)\n",
        "                        city_name = station_to_city[station_id]\n",
        "                        new_file_name = f\"Precipitacion_{city_name}_{station_id}.txt\"\n",
        "                        new_file_path = os.path.join(upload_dir, new_file_name)\n",
        "\n",
        "                        # Renombrar archivo\n",
        "                        os.rename(original_file_path, new_file_path)\n",
        "\n",
        "                        # Chequear si el archivo ya fue descargado\n",
        "                        if new_file_name not in downloaded_files:\n",
        "                            files.download(new_file_path)\n",
        "                            downloaded_files.add(new_file_name)\n",
        "                break\n",
        "else:\n",
        "    print(\"No se pudo acceder a la página web.\")\n",
        "\n",
        "# Verificar los archivos en la carpeta después de renombrar\n",
        "print(\"\\nArchivos después de renombrar:\")\n",
        "print(os.listdir(upload_dir))\n"
      ],
      "metadata": {
        "id": "pOqnk-WftxQM",
        "colab": {
          "base_uri": "https://localhost:8080/",
          "height": 798
        },
        "outputId": "2d80d1ed-844c-472f-f879-5ed081bab130"
      },
      "execution_count": 4,
      "outputs": [
        {
          "output_type": "stream",
          "name": "stdout",
          "text": [
            "Descargando el archivo desde https://opendata.dwd.de/climate_environment/CDC/observations_germany/climate/hourly/precipitation/recent/stundenwerte_RR_00433_akt.zip\n",
            "Archivo stundenwerte_RR_00433_akt.zip descargado exitosamente.\n"
          ]
        },
        {
          "output_type": "display_data",
          "data": {
            "text/plain": [
              "<IPython.core.display.Javascript object>"
            ],
            "application/javascript": [
              "\n",
              "    async function download(id, filename, size) {\n",
              "      if (!google.colab.kernel.accessAllowed) {\n",
              "        return;\n",
              "      }\n",
              "      const div = document.createElement('div');\n",
              "      const label = document.createElement('label');\n",
              "      label.textContent = `Downloading \"${filename}\": `;\n",
              "      div.appendChild(label);\n",
              "      const progress = document.createElement('progress');\n",
              "      progress.max = size;\n",
              "      div.appendChild(progress);\n",
              "      document.body.appendChild(div);\n",
              "\n",
              "      const buffers = [];\n",
              "      let downloaded = 0;\n",
              "\n",
              "      const channel = await google.colab.kernel.comms.open(id);\n",
              "      // Send a message to notify the kernel that we're ready.\n",
              "      channel.send({})\n",
              "\n",
              "      for await (const message of channel.messages) {\n",
              "        // Send a message to notify the kernel that we're ready.\n",
              "        channel.send({})\n",
              "        if (message.buffers) {\n",
              "          for (const buffer of message.buffers) {\n",
              "            buffers.push(buffer);\n",
              "            downloaded += buffer.byteLength;\n",
              "            progress.value = downloaded;\n",
              "          }\n",
              "        }\n",
              "      }\n",
              "      const blob = new Blob(buffers, {type: 'application/binary'});\n",
              "      const a = document.createElement('a');\n",
              "      a.href = window.URL.createObjectURL(blob);\n",
              "      a.download = filename;\n",
              "      div.appendChild(a);\n",
              "      a.click();\n",
              "      div.remove();\n",
              "    }\n",
              "  "
            ]
          },
          "metadata": {}
        },
        {
          "output_type": "display_data",
          "data": {
            "text/plain": [
              "<IPython.core.display.Javascript object>"
            ],
            "application/javascript": [
              "download(\"download_2068372b-e577-494b-98d6-dc9a4a23bb2e\", \"Precipitacion_Berlin_00433.txt\", 673250)"
            ]
          },
          "metadata": {}
        },
        {
          "output_type": "stream",
          "name": "stdout",
          "text": [
            "Descargando el archivo desde https://opendata.dwd.de/climate_environment/CDC/observations_germany/climate/hourly/precipitation/recent/stundenwerte_RR_01975_akt.zip\n",
            "Archivo stundenwerte_RR_01975_akt.zip descargado exitosamente.\n"
          ]
        },
        {
          "output_type": "display_data",
          "data": {
            "text/plain": [
              "<IPython.core.display.Javascript object>"
            ],
            "application/javascript": [
              "\n",
              "    async function download(id, filename, size) {\n",
              "      if (!google.colab.kernel.accessAllowed) {\n",
              "        return;\n",
              "      }\n",
              "      const div = document.createElement('div');\n",
              "      const label = document.createElement('label');\n",
              "      label.textContent = `Downloading \"${filename}\": `;\n",
              "      div.appendChild(label);\n",
              "      const progress = document.createElement('progress');\n",
              "      progress.max = size;\n",
              "      div.appendChild(progress);\n",
              "      document.body.appendChild(div);\n",
              "\n",
              "      const buffers = [];\n",
              "      let downloaded = 0;\n",
              "\n",
              "      const channel = await google.colab.kernel.comms.open(id);\n",
              "      // Send a message to notify the kernel that we're ready.\n",
              "      channel.send({})\n",
              "\n",
              "      for await (const message of channel.messages) {\n",
              "        // Send a message to notify the kernel that we're ready.\n",
              "        channel.send({})\n",
              "        if (message.buffers) {\n",
              "          for (const buffer of message.buffers) {\n",
              "            buffers.push(buffer);\n",
              "            downloaded += buffer.byteLength;\n",
              "            progress.value = downloaded;\n",
              "          }\n",
              "        }\n",
              "      }\n",
              "      const blob = new Blob(buffers, {type: 'application/binary'});\n",
              "      const a = document.createElement('a');\n",
              "      a.href = window.URL.createObjectURL(blob);\n",
              "      a.download = filename;\n",
              "      div.appendChild(a);\n",
              "      a.click();\n",
              "      div.remove();\n",
              "    }\n",
              "  "
            ]
          },
          "metadata": {}
        },
        {
          "output_type": "display_data",
          "data": {
            "text/plain": [
              "<IPython.core.display.Javascript object>"
            ],
            "application/javascript": [
              "download(\"download_67b146b4-8849-47de-b02c-da66f03be35c\", \"Precipitacion_Hamburg_01975.txt\", 673250)"
            ]
          },
          "metadata": {}
        },
        {
          "output_type": "stream",
          "name": "stdout",
          "text": [
            "Descargando el archivo desde https://opendata.dwd.de/climate_environment/CDC/observations_germany/climate/hourly/precipitation/recent/stundenwerte_RR_03379_akt.zip\n",
            "Archivo stundenwerte_RR_03379_akt.zip descargado exitosamente.\n"
          ]
        },
        {
          "output_type": "display_data",
          "data": {
            "text/plain": [
              "<IPython.core.display.Javascript object>"
            ],
            "application/javascript": [
              "\n",
              "    async function download(id, filename, size) {\n",
              "      if (!google.colab.kernel.accessAllowed) {\n",
              "        return;\n",
              "      }\n",
              "      const div = document.createElement('div');\n",
              "      const label = document.createElement('label');\n",
              "      label.textContent = `Downloading \"${filename}\": `;\n",
              "      div.appendChild(label);\n",
              "      const progress = document.createElement('progress');\n",
              "      progress.max = size;\n",
              "      div.appendChild(progress);\n",
              "      document.body.appendChild(div);\n",
              "\n",
              "      const buffers = [];\n",
              "      let downloaded = 0;\n",
              "\n",
              "      const channel = await google.colab.kernel.comms.open(id);\n",
              "      // Send a message to notify the kernel that we're ready.\n",
              "      channel.send({})\n",
              "\n",
              "      for await (const message of channel.messages) {\n",
              "        // Send a message to notify the kernel that we're ready.\n",
              "        channel.send({})\n",
              "        if (message.buffers) {\n",
              "          for (const buffer of message.buffers) {\n",
              "            buffers.push(buffer);\n",
              "            downloaded += buffer.byteLength;\n",
              "            progress.value = downloaded;\n",
              "          }\n",
              "        }\n",
              "      }\n",
              "      const blob = new Blob(buffers, {type: 'application/binary'});\n",
              "      const a = document.createElement('a');\n",
              "      a.href = window.URL.createObjectURL(blob);\n",
              "      a.download = filename;\n",
              "      div.appendChild(a);\n",
              "      a.click();\n",
              "      div.remove();\n",
              "    }\n",
              "  "
            ]
          },
          "metadata": {}
        },
        {
          "output_type": "display_data",
          "data": {
            "text/plain": [
              "<IPython.core.display.Javascript object>"
            ],
            "application/javascript": [
              "download(\"download_1d6532b2-43ab-48ff-9b14-3900d3382d4e\", \"Precipitacion_Munchen_03379.txt\", 673250)"
            ]
          },
          "metadata": {}
        },
        {
          "output_type": "stream",
          "name": "stdout",
          "text": [
            "Descargando el archivo desde https://opendata.dwd.de/climate_environment/CDC/observations_germany/climate/hourly/precipitation/recent/stundenwerte_RR_02667_akt.zip\n",
            "Archivo stundenwerte_RR_02667_akt.zip descargado exitosamente.\n"
          ]
        },
        {
          "output_type": "display_data",
          "data": {
            "text/plain": [
              "<IPython.core.display.Javascript object>"
            ],
            "application/javascript": [
              "\n",
              "    async function download(id, filename, size) {\n",
              "      if (!google.colab.kernel.accessAllowed) {\n",
              "        return;\n",
              "      }\n",
              "      const div = document.createElement('div');\n",
              "      const label = document.createElement('label');\n",
              "      label.textContent = `Downloading \"${filename}\": `;\n",
              "      div.appendChild(label);\n",
              "      const progress = document.createElement('progress');\n",
              "      progress.max = size;\n",
              "      div.appendChild(progress);\n",
              "      document.body.appendChild(div);\n",
              "\n",
              "      const buffers = [];\n",
              "      let downloaded = 0;\n",
              "\n",
              "      const channel = await google.colab.kernel.comms.open(id);\n",
              "      // Send a message to notify the kernel that we're ready.\n",
              "      channel.send({})\n",
              "\n",
              "      for await (const message of channel.messages) {\n",
              "        // Send a message to notify the kernel that we're ready.\n",
              "        channel.send({})\n",
              "        if (message.buffers) {\n",
              "          for (const buffer of message.buffers) {\n",
              "            buffers.push(buffer);\n",
              "            downloaded += buffer.byteLength;\n",
              "            progress.value = downloaded;\n",
              "          }\n",
              "        }\n",
              "      }\n",
              "      const blob = new Blob(buffers, {type: 'application/binary'});\n",
              "      const a = document.createElement('a');\n",
              "      a.href = window.URL.createObjectURL(blob);\n",
              "      a.download = filename;\n",
              "      div.appendChild(a);\n",
              "      a.click();\n",
              "      div.remove();\n",
              "    }\n",
              "  "
            ]
          },
          "metadata": {}
        },
        {
          "output_type": "display_data",
          "data": {
            "text/plain": [
              "<IPython.core.display.Javascript object>"
            ],
            "application/javascript": [
              "download(\"download_13089b49-20e7-4d6e-964f-66a2996951ee\", \"Precipitacion_Bonn_02667.txt\", 673250)"
            ]
          },
          "metadata": {}
        },
        {
          "output_type": "stream",
          "name": "stdout",
          "text": [
            "Descargando el archivo desde https://opendata.dwd.de/climate_environment/CDC/observations_germany/climate/hourly/precipitation/recent/stundenwerte_RR_01420_akt.zip\n",
            "Archivo stundenwerte_RR_01420_akt.zip descargado exitosamente.\n"
          ]
        },
        {
          "output_type": "display_data",
          "data": {
            "text/plain": [
              "<IPython.core.display.Javascript object>"
            ],
            "application/javascript": [
              "\n",
              "    async function download(id, filename, size) {\n",
              "      if (!google.colab.kernel.accessAllowed) {\n",
              "        return;\n",
              "      }\n",
              "      const div = document.createElement('div');\n",
              "      const label = document.createElement('label');\n",
              "      label.textContent = `Downloading \"${filename}\": `;\n",
              "      div.appendChild(label);\n",
              "      const progress = document.createElement('progress');\n",
              "      progress.max = size;\n",
              "      div.appendChild(progress);\n",
              "      document.body.appendChild(div);\n",
              "\n",
              "      const buffers = [];\n",
              "      let downloaded = 0;\n",
              "\n",
              "      const channel = await google.colab.kernel.comms.open(id);\n",
              "      // Send a message to notify the kernel that we're ready.\n",
              "      channel.send({})\n",
              "\n",
              "      for await (const message of channel.messages) {\n",
              "        // Send a message to notify the kernel that we're ready.\n",
              "        channel.send({})\n",
              "        if (message.buffers) {\n",
              "          for (const buffer of message.buffers) {\n",
              "            buffers.push(buffer);\n",
              "            downloaded += buffer.byteLength;\n",
              "            progress.value = downloaded;\n",
              "          }\n",
              "        }\n",
              "      }\n",
              "      const blob = new Blob(buffers, {type: 'application/binary'});\n",
              "      const a = document.createElement('a');\n",
              "      a.href = window.URL.createObjectURL(blob);\n",
              "      a.download = filename;\n",
              "      div.appendChild(a);\n",
              "      a.click();\n",
              "      div.remove();\n",
              "    }\n",
              "  "
            ]
          },
          "metadata": {}
        },
        {
          "output_type": "display_data",
          "data": {
            "text/plain": [
              "<IPython.core.display.Javascript object>"
            ],
            "application/javascript": [
              "download(\"download_d7eec133-0170-4c88-b37a-239ec392e47a\", \"Precipitacion_Frankfurt_am_Main_01420.txt\", 673250)"
            ]
          },
          "metadata": {}
        },
        {
          "output_type": "stream",
          "name": "stdout",
          "text": [
            "Descargando el archivo desde https://opendata.dwd.de/climate_environment/CDC/observations_germany/climate/hourly/precipitation/recent/stundenwerte_RR_04928_akt.zip\n",
            "Archivo stundenwerte_RR_04928_akt.zip descargado exitosamente.\n"
          ]
        },
        {
          "output_type": "display_data",
          "data": {
            "text/plain": [
              "<IPython.core.display.Javascript object>"
            ],
            "application/javascript": [
              "\n",
              "    async function download(id, filename, size) {\n",
              "      if (!google.colab.kernel.accessAllowed) {\n",
              "        return;\n",
              "      }\n",
              "      const div = document.createElement('div');\n",
              "      const label = document.createElement('label');\n",
              "      label.textContent = `Downloading \"${filename}\": `;\n",
              "      div.appendChild(label);\n",
              "      const progress = document.createElement('progress');\n",
              "      progress.max = size;\n",
              "      div.appendChild(progress);\n",
              "      document.body.appendChild(div);\n",
              "\n",
              "      const buffers = [];\n",
              "      let downloaded = 0;\n",
              "\n",
              "      const channel = await google.colab.kernel.comms.open(id);\n",
              "      // Send a message to notify the kernel that we're ready.\n",
              "      channel.send({})\n",
              "\n",
              "      for await (const message of channel.messages) {\n",
              "        // Send a message to notify the kernel that we're ready.\n",
              "        channel.send({})\n",
              "        if (message.buffers) {\n",
              "          for (const buffer of message.buffers) {\n",
              "            buffers.push(buffer);\n",
              "            downloaded += buffer.byteLength;\n",
              "            progress.value = downloaded;\n",
              "          }\n",
              "        }\n",
              "      }\n",
              "      const blob = new Blob(buffers, {type: 'application/binary'});\n",
              "      const a = document.createElement('a');\n",
              "      a.href = window.URL.createObjectURL(blob);\n",
              "      a.download = filename;\n",
              "      div.appendChild(a);\n",
              "      a.click();\n",
              "      div.remove();\n",
              "    }\n",
              "  "
            ]
          },
          "metadata": {}
        },
        {
          "output_type": "display_data",
          "data": {
            "text/plain": [
              "<IPython.core.display.Javascript object>"
            ],
            "application/javascript": [
              "download(\"download_49eca6b5-b87d-4d0f-b08e-76ca91115713\", \"Precipitacion_Stuttgart_04928.txt\", 673250)"
            ]
          },
          "metadata": {}
        },
        {
          "output_type": "stream",
          "name": "stdout",
          "text": [
            "Descargando el archivo desde https://opendata.dwd.de/climate_environment/CDC/observations_germany/climate/hourly/precipitation/recent/stundenwerte_RR_01078_akt.zip\n",
            "Archivo stundenwerte_RR_01078_akt.zip descargado exitosamente.\n"
          ]
        },
        {
          "output_type": "display_data",
          "data": {
            "text/plain": [
              "<IPython.core.display.Javascript object>"
            ],
            "application/javascript": [
              "\n",
              "    async function download(id, filename, size) {\n",
              "      if (!google.colab.kernel.accessAllowed) {\n",
              "        return;\n",
              "      }\n",
              "      const div = document.createElement('div');\n",
              "      const label = document.createElement('label');\n",
              "      label.textContent = `Downloading \"${filename}\": `;\n",
              "      div.appendChild(label);\n",
              "      const progress = document.createElement('progress');\n",
              "      progress.max = size;\n",
              "      div.appendChild(progress);\n",
              "      document.body.appendChild(div);\n",
              "\n",
              "      const buffers = [];\n",
              "      let downloaded = 0;\n",
              "\n",
              "      const channel = await google.colab.kernel.comms.open(id);\n",
              "      // Send a message to notify the kernel that we're ready.\n",
              "      channel.send({})\n",
              "\n",
              "      for await (const message of channel.messages) {\n",
              "        // Send a message to notify the kernel that we're ready.\n",
              "        channel.send({})\n",
              "        if (message.buffers) {\n",
              "          for (const buffer of message.buffers) {\n",
              "            buffers.push(buffer);\n",
              "            downloaded += buffer.byteLength;\n",
              "            progress.value = downloaded;\n",
              "          }\n",
              "        }\n",
              "      }\n",
              "      const blob = new Blob(buffers, {type: 'application/binary'});\n",
              "      const a = document.createElement('a');\n",
              "      a.href = window.URL.createObjectURL(blob);\n",
              "      a.download = filename;\n",
              "      div.appendChild(a);\n",
              "      a.click();\n",
              "      div.remove();\n",
              "    }\n",
              "  "
            ]
          },
          "metadata": {}
        },
        {
          "output_type": "display_data",
          "data": {
            "text/plain": [
              "<IPython.core.display.Javascript object>"
            ],
            "application/javascript": [
              "download(\"download_99921e75-ebbf-4853-9615-8618e1320631\", \"Precipitacion_D\\u00fcsseldorf_01078.txt\", 673250)"
            ]
          },
          "metadata": {}
        },
        {
          "output_type": "stream",
          "name": "stdout",
          "text": [
            "Descargando el archivo desde https://opendata.dwd.de/climate_environment/CDC/observations_germany/climate/hourly/precipitation/recent/stundenwerte_RR_02928_akt.zip\n",
            "Archivo stundenwerte_RR_02928_akt.zip descargado exitosamente.\n"
          ]
        },
        {
          "output_type": "display_data",
          "data": {
            "text/plain": [
              "<IPython.core.display.Javascript object>"
            ],
            "application/javascript": [
              "\n",
              "    async function download(id, filename, size) {\n",
              "      if (!google.colab.kernel.accessAllowed) {\n",
              "        return;\n",
              "      }\n",
              "      const div = document.createElement('div');\n",
              "      const label = document.createElement('label');\n",
              "      label.textContent = `Downloading \"${filename}\": `;\n",
              "      div.appendChild(label);\n",
              "      const progress = document.createElement('progress');\n",
              "      progress.max = size;\n",
              "      div.appendChild(progress);\n",
              "      document.body.appendChild(div);\n",
              "\n",
              "      const buffers = [];\n",
              "      let downloaded = 0;\n",
              "\n",
              "      const channel = await google.colab.kernel.comms.open(id);\n",
              "      // Send a message to notify the kernel that we're ready.\n",
              "      channel.send({})\n",
              "\n",
              "      for await (const message of channel.messages) {\n",
              "        // Send a message to notify the kernel that we're ready.\n",
              "        channel.send({})\n",
              "        if (message.buffers) {\n",
              "          for (const buffer of message.buffers) {\n",
              "            buffers.push(buffer);\n",
              "            downloaded += buffer.byteLength;\n",
              "            progress.value = downloaded;\n",
              "          }\n",
              "        }\n",
              "      }\n",
              "      const blob = new Blob(buffers, {type: 'application/binary'});\n",
              "      const a = document.createElement('a');\n",
              "      a.href = window.URL.createObjectURL(blob);\n",
              "      a.download = filename;\n",
              "      div.appendChild(a);\n",
              "      a.click();\n",
              "      div.remove();\n",
              "    }\n",
              "  "
            ]
          },
          "metadata": {}
        },
        {
          "output_type": "display_data",
          "data": {
            "text/plain": [
              "<IPython.core.display.Javascript object>"
            ],
            "application/javascript": [
              "download(\"download_6875b068-c40f-4234-8851-d7bd4fa6a1a4\", \"Precipitacion_Leipzig_02928.txt\", 673199)"
            ]
          },
          "metadata": {}
        },
        {
          "output_type": "stream",
          "name": "stdout",
          "text": [
            "Descargando el archivo desde https://opendata.dwd.de/climate_environment/CDC/observations_germany/climate/hourly/precipitation/recent/stundenwerte_RR_01303_akt.zip\n",
            "Archivo stundenwerte_RR_01303_akt.zip descargado exitosamente.\n"
          ]
        },
        {
          "output_type": "display_data",
          "data": {
            "text/plain": [
              "<IPython.core.display.Javascript object>"
            ],
            "application/javascript": [
              "\n",
              "    async function download(id, filename, size) {\n",
              "      if (!google.colab.kernel.accessAllowed) {\n",
              "        return;\n",
              "      }\n",
              "      const div = document.createElement('div');\n",
              "      const label = document.createElement('label');\n",
              "      label.textContent = `Downloading \"${filename}\": `;\n",
              "      div.appendChild(label);\n",
              "      const progress = document.createElement('progress');\n",
              "      progress.max = size;\n",
              "      div.appendChild(progress);\n",
              "      document.body.appendChild(div);\n",
              "\n",
              "      const buffers = [];\n",
              "      let downloaded = 0;\n",
              "\n",
              "      const channel = await google.colab.kernel.comms.open(id);\n",
              "      // Send a message to notify the kernel that we're ready.\n",
              "      channel.send({})\n",
              "\n",
              "      for await (const message of channel.messages) {\n",
              "        // Send a message to notify the kernel that we're ready.\n",
              "        channel.send({})\n",
              "        if (message.buffers) {\n",
              "          for (const buffer of message.buffers) {\n",
              "            buffers.push(buffer);\n",
              "            downloaded += buffer.byteLength;\n",
              "            progress.value = downloaded;\n",
              "          }\n",
              "        }\n",
              "      }\n",
              "      const blob = new Blob(buffers, {type: 'application/binary'});\n",
              "      const a = document.createElement('a');\n",
              "      a.href = window.URL.createObjectURL(blob);\n",
              "      a.download = filename;\n",
              "      div.appendChild(a);\n",
              "      a.click();\n",
              "      div.remove();\n",
              "    }\n",
              "  "
            ]
          },
          "metadata": {}
        },
        {
          "output_type": "display_data",
          "data": {
            "text/plain": [
              "<IPython.core.display.Javascript object>"
            ],
            "application/javascript": [
              "download(\"download_a6ba2f86-9dd7-4a76-a7eb-dfc8d17b3651\", \"Precipitacion_Essen_01303.txt\", 673250)"
            ]
          },
          "metadata": {}
        },
        {
          "output_type": "stream",
          "name": "stdout",
          "text": [
            "Descargando el archivo desde https://opendata.dwd.de/climate_environment/CDC/observations_germany/climate/hourly/precipitation/recent/stundenwerte_RR_00691_akt.zip\n",
            "Archivo stundenwerte_RR_00691_akt.zip descargado exitosamente.\n"
          ]
        },
        {
          "output_type": "display_data",
          "data": {
            "text/plain": [
              "<IPython.core.display.Javascript object>"
            ],
            "application/javascript": [
              "\n",
              "    async function download(id, filename, size) {\n",
              "      if (!google.colab.kernel.accessAllowed) {\n",
              "        return;\n",
              "      }\n",
              "      const div = document.createElement('div');\n",
              "      const label = document.createElement('label');\n",
              "      label.textContent = `Downloading \"${filename}\": `;\n",
              "      div.appendChild(label);\n",
              "      const progress = document.createElement('progress');\n",
              "      progress.max = size;\n",
              "      div.appendChild(progress);\n",
              "      document.body.appendChild(div);\n",
              "\n",
              "      const buffers = [];\n",
              "      let downloaded = 0;\n",
              "\n",
              "      const channel = await google.colab.kernel.comms.open(id);\n",
              "      // Send a message to notify the kernel that we're ready.\n",
              "      channel.send({})\n",
              "\n",
              "      for await (const message of channel.messages) {\n",
              "        // Send a message to notify the kernel that we're ready.\n",
              "        channel.send({})\n",
              "        if (message.buffers) {\n",
              "          for (const buffer of message.buffers) {\n",
              "            buffers.push(buffer);\n",
              "            downloaded += buffer.byteLength;\n",
              "            progress.value = downloaded;\n",
              "          }\n",
              "        }\n",
              "      }\n",
              "      const blob = new Blob(buffers, {type: 'application/binary'});\n",
              "      const a = document.createElement('a');\n",
              "      a.href = window.URL.createObjectURL(blob);\n",
              "      a.download = filename;\n",
              "      div.appendChild(a);\n",
              "      a.click();\n",
              "      div.remove();\n",
              "    }\n",
              "  "
            ]
          },
          "metadata": {}
        },
        {
          "output_type": "display_data",
          "data": {
            "text/plain": [
              "<IPython.core.display.Javascript object>"
            ],
            "application/javascript": [
              "download(\"download_c97082f4-c38a-4f2b-8e2a-2bf5fbacdfad\", \"Precipitacion_Bremen_00691.txt\", 673250)"
            ]
          },
          "metadata": {}
        },
        {
          "output_type": "stream",
          "name": "stdout",
          "text": [
            "Descargando el archivo desde https://opendata.dwd.de/climate_environment/CDC/observations_germany/climate/hourly/precipitation/recent/stundenwerte_RR_01048_akt.zip\n",
            "Archivo stundenwerte_RR_01048_akt.zip descargado exitosamente.\n"
          ]
        },
        {
          "output_type": "display_data",
          "data": {
            "text/plain": [
              "<IPython.core.display.Javascript object>"
            ],
            "application/javascript": [
              "\n",
              "    async function download(id, filename, size) {\n",
              "      if (!google.colab.kernel.accessAllowed) {\n",
              "        return;\n",
              "      }\n",
              "      const div = document.createElement('div');\n",
              "      const label = document.createElement('label');\n",
              "      label.textContent = `Downloading \"${filename}\": `;\n",
              "      div.appendChild(label);\n",
              "      const progress = document.createElement('progress');\n",
              "      progress.max = size;\n",
              "      div.appendChild(progress);\n",
              "      document.body.appendChild(div);\n",
              "\n",
              "      const buffers = [];\n",
              "      let downloaded = 0;\n",
              "\n",
              "      const channel = await google.colab.kernel.comms.open(id);\n",
              "      // Send a message to notify the kernel that we're ready.\n",
              "      channel.send({})\n",
              "\n",
              "      for await (const message of channel.messages) {\n",
              "        // Send a message to notify the kernel that we're ready.\n",
              "        channel.send({})\n",
              "        if (message.buffers) {\n",
              "          for (const buffer of message.buffers) {\n",
              "            buffers.push(buffer);\n",
              "            downloaded += buffer.byteLength;\n",
              "            progress.value = downloaded;\n",
              "          }\n",
              "        }\n",
              "      }\n",
              "      const blob = new Blob(buffers, {type: 'application/binary'});\n",
              "      const a = document.createElement('a');\n",
              "      a.href = window.URL.createObjectURL(blob);\n",
              "      a.download = filename;\n",
              "      div.appendChild(a);\n",
              "      a.click();\n",
              "      div.remove();\n",
              "    }\n",
              "  "
            ]
          },
          "metadata": {}
        },
        {
          "output_type": "display_data",
          "data": {
            "text/plain": [
              "<IPython.core.display.Javascript object>"
            ],
            "application/javascript": [
              "download(\"download_e9011d9e-5cf5-4ed2-8290-9247ab9b1930\", \"Precipitacion_Dresden_01048.txt\", 673250)"
            ]
          },
          "metadata": {}
        },
        {
          "output_type": "stream",
          "name": "stdout",
          "text": [
            "Descargando el archivo desde https://opendata.dwd.de/climate_environment/CDC/observations_germany/climate/hourly/precipitation/recent/stundenwerte_RR_02014_akt.zip\n",
            "Archivo stundenwerte_RR_02014_akt.zip descargado exitosamente.\n"
          ]
        },
        {
          "output_type": "display_data",
          "data": {
            "text/plain": [
              "<IPython.core.display.Javascript object>"
            ],
            "application/javascript": [
              "\n",
              "    async function download(id, filename, size) {\n",
              "      if (!google.colab.kernel.accessAllowed) {\n",
              "        return;\n",
              "      }\n",
              "      const div = document.createElement('div');\n",
              "      const label = document.createElement('label');\n",
              "      label.textContent = `Downloading \"${filename}\": `;\n",
              "      div.appendChild(label);\n",
              "      const progress = document.createElement('progress');\n",
              "      progress.max = size;\n",
              "      div.appendChild(progress);\n",
              "      document.body.appendChild(div);\n",
              "\n",
              "      const buffers = [];\n",
              "      let downloaded = 0;\n",
              "\n",
              "      const channel = await google.colab.kernel.comms.open(id);\n",
              "      // Send a message to notify the kernel that we're ready.\n",
              "      channel.send({})\n",
              "\n",
              "      for await (const message of channel.messages) {\n",
              "        // Send a message to notify the kernel that we're ready.\n",
              "        channel.send({})\n",
              "        if (message.buffers) {\n",
              "          for (const buffer of message.buffers) {\n",
              "            buffers.push(buffer);\n",
              "            downloaded += buffer.byteLength;\n",
              "            progress.value = downloaded;\n",
              "          }\n",
              "        }\n",
              "      }\n",
              "      const blob = new Blob(buffers, {type: 'application/binary'});\n",
              "      const a = document.createElement('a');\n",
              "      a.href = window.URL.createObjectURL(blob);\n",
              "      a.download = filename;\n",
              "      div.appendChild(a);\n",
              "      a.click();\n",
              "      div.remove();\n",
              "    }\n",
              "  "
            ]
          },
          "metadata": {}
        },
        {
          "output_type": "display_data",
          "data": {
            "text/plain": [
              "<IPython.core.display.Javascript object>"
            ],
            "application/javascript": [
              "download(\"download_232386c1-2902-4a3a-99c9-fe6876b4a2c4\", \"Precipitacion_Hannover_02014.txt\", 673250)"
            ]
          },
          "metadata": {}
        },
        {
          "output_type": "stream",
          "name": "stdout",
          "text": [
            "Descargando el archivo desde https://opendata.dwd.de/climate_environment/CDC/observations_germany/climate/hourly/precipitation/recent/stundenwerte_RR_03668_akt.zip\n",
            "Archivo stundenwerte_RR_03668_akt.zip descargado exitosamente.\n"
          ]
        },
        {
          "output_type": "display_data",
          "data": {
            "text/plain": [
              "<IPython.core.display.Javascript object>"
            ],
            "application/javascript": [
              "\n",
              "    async function download(id, filename, size) {\n",
              "      if (!google.colab.kernel.accessAllowed) {\n",
              "        return;\n",
              "      }\n",
              "      const div = document.createElement('div');\n",
              "      const label = document.createElement('label');\n",
              "      label.textContent = `Downloading \"${filename}\": `;\n",
              "      div.appendChild(label);\n",
              "      const progress = document.createElement('progress');\n",
              "      progress.max = size;\n",
              "      div.appendChild(progress);\n",
              "      document.body.appendChild(div);\n",
              "\n",
              "      const buffers = [];\n",
              "      let downloaded = 0;\n",
              "\n",
              "      const channel = await google.colab.kernel.comms.open(id);\n",
              "      // Send a message to notify the kernel that we're ready.\n",
              "      channel.send({})\n",
              "\n",
              "      for await (const message of channel.messages) {\n",
              "        // Send a message to notify the kernel that we're ready.\n",
              "        channel.send({})\n",
              "        if (message.buffers) {\n",
              "          for (const buffer of message.buffers) {\n",
              "            buffers.push(buffer);\n",
              "            downloaded += buffer.byteLength;\n",
              "            progress.value = downloaded;\n",
              "          }\n",
              "        }\n",
              "      }\n",
              "      const blob = new Blob(buffers, {type: 'application/binary'});\n",
              "      const a = document.createElement('a');\n",
              "      a.href = window.URL.createObjectURL(blob);\n",
              "      a.download = filename;\n",
              "      div.appendChild(a);\n",
              "      a.click();\n",
              "      div.remove();\n",
              "    }\n",
              "  "
            ]
          },
          "metadata": {}
        },
        {
          "output_type": "display_data",
          "data": {
            "text/plain": [
              "<IPython.core.display.Javascript object>"
            ],
            "application/javascript": [
              "download(\"download_78e0ce6d-68b1-46df-b063-6e28d9cfc78f\", \"Precipitacion_N\\u00fcrnberg_03668.txt\", 673250)"
            ]
          },
          "metadata": {}
        },
        {
          "output_type": "stream",
          "name": "stdout",
          "text": [
            "Descargando el archivo desde https://opendata.dwd.de/climate_environment/CDC/observations_germany/climate/hourly/precipitation/recent/stundenwerte_RR_13670_akt.zip\n",
            "Archivo stundenwerte_RR_13670_akt.zip descargado exitosamente.\n"
          ]
        },
        {
          "output_type": "display_data",
          "data": {
            "text/plain": [
              "<IPython.core.display.Javascript object>"
            ],
            "application/javascript": [
              "\n",
              "    async function download(id, filename, size) {\n",
              "      if (!google.colab.kernel.accessAllowed) {\n",
              "        return;\n",
              "      }\n",
              "      const div = document.createElement('div');\n",
              "      const label = document.createElement('label');\n",
              "      label.textContent = `Downloading \"${filename}\": `;\n",
              "      div.appendChild(label);\n",
              "      const progress = document.createElement('progress');\n",
              "      progress.max = size;\n",
              "      div.appendChild(progress);\n",
              "      document.body.appendChild(div);\n",
              "\n",
              "      const buffers = [];\n",
              "      let downloaded = 0;\n",
              "\n",
              "      const channel = await google.colab.kernel.comms.open(id);\n",
              "      // Send a message to notify the kernel that we're ready.\n",
              "      channel.send({})\n",
              "\n",
              "      for await (const message of channel.messages) {\n",
              "        // Send a message to notify the kernel that we're ready.\n",
              "        channel.send({})\n",
              "        if (message.buffers) {\n",
              "          for (const buffer of message.buffers) {\n",
              "            buffers.push(buffer);\n",
              "            downloaded += buffer.byteLength;\n",
              "            progress.value = downloaded;\n",
              "          }\n",
              "        }\n",
              "      }\n",
              "      const blob = new Blob(buffers, {type: 'application/binary'});\n",
              "      const a = document.createElement('a');\n",
              "      a.href = window.URL.createObjectURL(blob);\n",
              "      a.download = filename;\n",
              "      div.appendChild(a);\n",
              "      a.click();\n",
              "      div.remove();\n",
              "    }\n",
              "  "
            ]
          },
          "metadata": {}
        },
        {
          "output_type": "display_data",
          "data": {
            "text/plain": [
              "<IPython.core.display.Javascript object>"
            ],
            "application/javascript": [
              "download(\"download_352f20de-0665-4fb0-8054-bb678ce457ad\", \"Precipitacion_Duisburg_13670.txt\", 673250)"
            ]
          },
          "metadata": {}
        },
        {
          "output_type": "stream",
          "name": "stdout",
          "text": [
            "Descargando el archivo desde https://opendata.dwd.de/climate_environment/CDC/observations_germany/climate/hourly/precipitation/recent/stundenwerte_RR_00555_akt.zip\n",
            "Archivo stundenwerte_RR_00555_akt.zip descargado exitosamente.\n"
          ]
        },
        {
          "output_type": "display_data",
          "data": {
            "text/plain": [
              "<IPython.core.display.Javascript object>"
            ],
            "application/javascript": [
              "\n",
              "    async function download(id, filename, size) {\n",
              "      if (!google.colab.kernel.accessAllowed) {\n",
              "        return;\n",
              "      }\n",
              "      const div = document.createElement('div');\n",
              "      const label = document.createElement('label');\n",
              "      label.textContent = `Downloading \"${filename}\": `;\n",
              "      div.appendChild(label);\n",
              "      const progress = document.createElement('progress');\n",
              "      progress.max = size;\n",
              "      div.appendChild(progress);\n",
              "      document.body.appendChild(div);\n",
              "\n",
              "      const buffers = [];\n",
              "      let downloaded = 0;\n",
              "\n",
              "      const channel = await google.colab.kernel.comms.open(id);\n",
              "      // Send a message to notify the kernel that we're ready.\n",
              "      channel.send({})\n",
              "\n",
              "      for await (const message of channel.messages) {\n",
              "        // Send a message to notify the kernel that we're ready.\n",
              "        channel.send({})\n",
              "        if (message.buffers) {\n",
              "          for (const buffer of message.buffers) {\n",
              "            buffers.push(buffer);\n",
              "            downloaded += buffer.byteLength;\n",
              "            progress.value = downloaded;\n",
              "          }\n",
              "        }\n",
              "      }\n",
              "      const blob = new Blob(buffers, {type: 'application/binary'});\n",
              "      const a = document.createElement('a');\n",
              "      a.href = window.URL.createObjectURL(blob);\n",
              "      a.download = filename;\n",
              "      div.appendChild(a);\n",
              "      a.click();\n",
              "      div.remove();\n",
              "    }\n",
              "  "
            ]
          },
          "metadata": {}
        },
        {
          "output_type": "display_data",
          "data": {
            "text/plain": [
              "<IPython.core.display.Javascript object>"
            ],
            "application/javascript": [
              "download(\"download_4af460cf-4e61-4c9c-94e1-9803a9254c8f\", \"Precipitacion_Bochum_00555.txt\", 673250)"
            ]
          },
          "metadata": {}
        },
        {
          "output_type": "stream",
          "name": "stdout",
          "text": [
            "Descargando el archivo desde https://opendata.dwd.de/climate_environment/CDC/observations_germany/climate/hourly/precipitation/recent/stundenwerte_RR_05717_akt.zip\n",
            "Archivo stundenwerte_RR_05717_akt.zip descargado exitosamente.\n"
          ]
        },
        {
          "output_type": "display_data",
          "data": {
            "text/plain": [
              "<IPython.core.display.Javascript object>"
            ],
            "application/javascript": [
              "\n",
              "    async function download(id, filename, size) {\n",
              "      if (!google.colab.kernel.accessAllowed) {\n",
              "        return;\n",
              "      }\n",
              "      const div = document.createElement('div');\n",
              "      const label = document.createElement('label');\n",
              "      label.textContent = `Downloading \"${filename}\": `;\n",
              "      div.appendChild(label);\n",
              "      const progress = document.createElement('progress');\n",
              "      progress.max = size;\n",
              "      div.appendChild(progress);\n",
              "      document.body.appendChild(div);\n",
              "\n",
              "      const buffers = [];\n",
              "      let downloaded = 0;\n",
              "\n",
              "      const channel = await google.colab.kernel.comms.open(id);\n",
              "      // Send a message to notify the kernel that we're ready.\n",
              "      channel.send({})\n",
              "\n",
              "      for await (const message of channel.messages) {\n",
              "        // Send a message to notify the kernel that we're ready.\n",
              "        channel.send({})\n",
              "        if (message.buffers) {\n",
              "          for (const buffer of message.buffers) {\n",
              "            buffers.push(buffer);\n",
              "            downloaded += buffer.byteLength;\n",
              "            progress.value = downloaded;\n",
              "          }\n",
              "        }\n",
              "      }\n",
              "      const blob = new Blob(buffers, {type: 'application/binary'});\n",
              "      const a = document.createElement('a');\n",
              "      a.href = window.URL.createObjectURL(blob);\n",
              "      a.download = filename;\n",
              "      div.appendChild(a);\n",
              "      a.click();\n",
              "      div.remove();\n",
              "    }\n",
              "  "
            ]
          },
          "metadata": {}
        },
        {
          "output_type": "display_data",
          "data": {
            "text/plain": [
              "<IPython.core.display.Javascript object>"
            ],
            "application/javascript": [
              "download(\"download_f65497b7-3d48-4eca-86ad-60a38648b169\", \"Precipitacion_Wuppertal_05717.txt\", 673250)"
            ]
          },
          "metadata": {}
        },
        {
          "output_type": "stream",
          "name": "stdout",
          "text": [
            "Descargando el archivo desde https://opendata.dwd.de/climate_environment/CDC/observations_germany/climate/hourly/precipitation/recent/stundenwerte_RR_07106_akt.zip\n",
            "Archivo stundenwerte_RR_07106_akt.zip descargado exitosamente.\n"
          ]
        },
        {
          "output_type": "display_data",
          "data": {
            "text/plain": [
              "<IPython.core.display.Javascript object>"
            ],
            "application/javascript": [
              "\n",
              "    async function download(id, filename, size) {\n",
              "      if (!google.colab.kernel.accessAllowed) {\n",
              "        return;\n",
              "      }\n",
              "      const div = document.createElement('div');\n",
              "      const label = document.createElement('label');\n",
              "      label.textContent = `Downloading \"${filename}\": `;\n",
              "      div.appendChild(label);\n",
              "      const progress = document.createElement('progress');\n",
              "      progress.max = size;\n",
              "      div.appendChild(progress);\n",
              "      document.body.appendChild(div);\n",
              "\n",
              "      const buffers = [];\n",
              "      let downloaded = 0;\n",
              "\n",
              "      const channel = await google.colab.kernel.comms.open(id);\n",
              "      // Send a message to notify the kernel that we're ready.\n",
              "      channel.send({})\n",
              "\n",
              "      for await (const message of channel.messages) {\n",
              "        // Send a message to notify the kernel that we're ready.\n",
              "        channel.send({})\n",
              "        if (message.buffers) {\n",
              "          for (const buffer of message.buffers) {\n",
              "            buffers.push(buffer);\n",
              "            downloaded += buffer.byteLength;\n",
              "            progress.value = downloaded;\n",
              "          }\n",
              "        }\n",
              "      }\n",
              "      const blob = new Blob(buffers, {type: 'application/binary'});\n",
              "      const a = document.createElement('a');\n",
              "      a.href = window.URL.createObjectURL(blob);\n",
              "      a.download = filename;\n",
              "      div.appendChild(a);\n",
              "      a.click();\n",
              "      div.remove();\n",
              "    }\n",
              "  "
            ]
          },
          "metadata": {}
        },
        {
          "output_type": "display_data",
          "data": {
            "text/plain": [
              "<IPython.core.display.Javascript object>"
            ],
            "application/javascript": [
              "download(\"download_4dba57f5-e129-45fc-9397-9a953abe189c\", \"Precipitacion_Bielefeld_07106.txt\", 673250)"
            ]
          },
          "metadata": {}
        },
        {
          "output_type": "stream",
          "name": "stdout",
          "text": [
            "Descargando el archivo desde https://opendata.dwd.de/climate_environment/CDC/observations_germany/climate/hourly/precipitation/recent/stundenwerte_RR_02968_akt.zip\n",
            "Archivo stundenwerte_RR_02968_akt.zip descargado exitosamente.\n"
          ]
        },
        {
          "output_type": "display_data",
          "data": {
            "text/plain": [
              "<IPython.core.display.Javascript object>"
            ],
            "application/javascript": [
              "\n",
              "    async function download(id, filename, size) {\n",
              "      if (!google.colab.kernel.accessAllowed) {\n",
              "        return;\n",
              "      }\n",
              "      const div = document.createElement('div');\n",
              "      const label = document.createElement('label');\n",
              "      label.textContent = `Downloading \"${filename}\": `;\n",
              "      div.appendChild(label);\n",
              "      const progress = document.createElement('progress');\n",
              "      progress.max = size;\n",
              "      div.appendChild(progress);\n",
              "      document.body.appendChild(div);\n",
              "\n",
              "      const buffers = [];\n",
              "      let downloaded = 0;\n",
              "\n",
              "      const channel = await google.colab.kernel.comms.open(id);\n",
              "      // Send a message to notify the kernel that we're ready.\n",
              "      channel.send({})\n",
              "\n",
              "      for await (const message of channel.messages) {\n",
              "        // Send a message to notify the kernel that we're ready.\n",
              "        channel.send({})\n",
              "        if (message.buffers) {\n",
              "          for (const buffer of message.buffers) {\n",
              "            buffers.push(buffer);\n",
              "            downloaded += buffer.byteLength;\n",
              "            progress.value = downloaded;\n",
              "          }\n",
              "        }\n",
              "      }\n",
              "      const blob = new Blob(buffers, {type: 'application/binary'});\n",
              "      const a = document.createElement('a');\n",
              "      a.href = window.URL.createObjectURL(blob);\n",
              "      a.download = filename;\n",
              "      div.appendChild(a);\n",
              "      a.click();\n",
              "      div.remove();\n",
              "    }\n",
              "  "
            ]
          },
          "metadata": {}
        },
        {
          "output_type": "display_data",
          "data": {
            "text/plain": [
              "<IPython.core.display.Javascript object>"
            ],
            "application/javascript": [
              "download(\"download_eb10ec73-cf80-4325-a0d0-d01053d3cb7d\", \"Precipitacion_Koln_02968.txt\", 672383)"
            ]
          },
          "metadata": {}
        },
        {
          "output_type": "stream",
          "name": "stdout",
          "text": [
            "Descargando el archivo desde https://opendata.dwd.de/climate_environment/CDC/observations_germany/climate/hourly/precipitation/recent/stundenwerte_RR_01766_akt.zip\n",
            "Archivo stundenwerte_RR_01766_akt.zip descargado exitosamente.\n"
          ]
        },
        {
          "output_type": "display_data",
          "data": {
            "text/plain": [
              "<IPython.core.display.Javascript object>"
            ],
            "application/javascript": [
              "\n",
              "    async function download(id, filename, size) {\n",
              "      if (!google.colab.kernel.accessAllowed) {\n",
              "        return;\n",
              "      }\n",
              "      const div = document.createElement('div');\n",
              "      const label = document.createElement('label');\n",
              "      label.textContent = `Downloading \"${filename}\": `;\n",
              "      div.appendChild(label);\n",
              "      const progress = document.createElement('progress');\n",
              "      progress.max = size;\n",
              "      div.appendChild(progress);\n",
              "      document.body.appendChild(div);\n",
              "\n",
              "      const buffers = [];\n",
              "      let downloaded = 0;\n",
              "\n",
              "      const channel = await google.colab.kernel.comms.open(id);\n",
              "      // Send a message to notify the kernel that we're ready.\n",
              "      channel.send({})\n",
              "\n",
              "      for await (const message of channel.messages) {\n",
              "        // Send a message to notify the kernel that we're ready.\n",
              "        channel.send({})\n",
              "        if (message.buffers) {\n",
              "          for (const buffer of message.buffers) {\n",
              "            buffers.push(buffer);\n",
              "            downloaded += buffer.byteLength;\n",
              "            progress.value = downloaded;\n",
              "          }\n",
              "        }\n",
              "      }\n",
              "      const blob = new Blob(buffers, {type: 'application/binary'});\n",
              "      const a = document.createElement('a');\n",
              "      a.href = window.URL.createObjectURL(blob);\n",
              "      a.download = filename;\n",
              "      div.appendChild(a);\n",
              "      a.click();\n",
              "      div.remove();\n",
              "    }\n",
              "  "
            ]
          },
          "metadata": {}
        },
        {
          "output_type": "display_data",
          "data": {
            "text/plain": [
              "<IPython.core.display.Javascript object>"
            ],
            "application/javascript": [
              "download(\"download_1ad93a06-fe1a-4896-9171-aa6ece2b0d11\", \"Precipitacion_M\\u00fcnster(Westf)_01766.txt\", 673250)"
            ]
          },
          "metadata": {}
        },
        {
          "output_type": "stream",
          "name": "stdout",
          "text": [
            "Descargando el archivo desde https://opendata.dwd.de/climate_environment/CDC/observations_germany/climate/hourly/precipitation/recent/stundenwerte_RR_02483_akt.zip\n",
            "Archivo stundenwerte_RR_02483_akt.zip descargado exitosamente.\n"
          ]
        },
        {
          "output_type": "display_data",
          "data": {
            "text/plain": [
              "<IPython.core.display.Javascript object>"
            ],
            "application/javascript": [
              "\n",
              "    async function download(id, filename, size) {\n",
              "      if (!google.colab.kernel.accessAllowed) {\n",
              "        return;\n",
              "      }\n",
              "      const div = document.createElement('div');\n",
              "      const label = document.createElement('label');\n",
              "      label.textContent = `Downloading \"${filename}\": `;\n",
              "      div.appendChild(label);\n",
              "      const progress = document.createElement('progress');\n",
              "      progress.max = size;\n",
              "      div.appendChild(progress);\n",
              "      document.body.appendChild(div);\n",
              "\n",
              "      const buffers = [];\n",
              "      let downloaded = 0;\n",
              "\n",
              "      const channel = await google.colab.kernel.comms.open(id);\n",
              "      // Send a message to notify the kernel that we're ready.\n",
              "      channel.send({})\n",
              "\n",
              "      for await (const message of channel.messages) {\n",
              "        // Send a message to notify the kernel that we're ready.\n",
              "        channel.send({})\n",
              "        if (message.buffers) {\n",
              "          for (const buffer of message.buffers) {\n",
              "            buffers.push(buffer);\n",
              "            downloaded += buffer.byteLength;\n",
              "            progress.value = downloaded;\n",
              "          }\n",
              "        }\n",
              "      }\n",
              "      const blob = new Blob(buffers, {type: 'application/binary'});\n",
              "      const a = document.createElement('a');\n",
              "      a.href = window.URL.createObjectURL(blob);\n",
              "      a.download = filename;\n",
              "      div.appendChild(a);\n",
              "      a.click();\n",
              "      div.remove();\n",
              "    }\n",
              "  "
            ]
          },
          "metadata": {}
        },
        {
          "output_type": "display_data",
          "data": {
            "text/plain": [
              "<IPython.core.display.Javascript object>"
            ],
            "application/javascript": [
              "download(\"download_8c50e59f-2924-4497-a758-ca27d376997a\", \"Precipitacion_Dortmund_02483.txt\", 673250)"
            ]
          },
          "metadata": {}
        },
        {
          "output_type": "stream",
          "name": "stdout",
          "text": [
            "\n",
            "Archivos después de renombrar:\n",
            "['Metadaten_Geraete_Niederschlag_Gefallen_Ind_01766.txt', 'Metadaten_Geraete_Niederschlagshoehe_02928.html', 'Metadaten_Geographie_01975.txt', 'Metadaten_Geraete_Niederschlagsform_02014.html', 'Metadaten_Geraete_Niederschlagsform_03379.txt', 'Metadaten_Geraete_Niederschlag_Gefallen_Ind_02014.html', 'Metadaten_Parameter_rr_stunde_02483.html', 'Metadaten_Geraete_Niederschlag_Gefallen_Ind_01420.html', 'Metadaten_Geographie_03668.txt', 'Metadaten_Geraete_Niederschlagsform_01048.txt', 'Metadaten_Fehldaten_02667_20230303_20240902.html', 'Metadaten_Geraete_Niederschlag_Gefallen_Ind_03668.txt', 'Metadaten_Stationsname_Betreibername_01975.txt', 'Metadaten_Stationsname_Betreibername_01303.html', 'Metadaten_Geraete_Niederschlagsform_02928.html', 'Metadaten_Stationsname_Betreibername_01975.html', 'Metadaten_Fehldaten_00691_20230303_20240902.html', 'Metadaten_Stationsname_Betreibername_01078.html', 'Metadaten_Parameter_rr_stunde_01048.txt', 'Precipitacion_Münster(Westf)_01766.txt', 'Metadaten_Geographie_01420.txt', 'Metadaten_Fehlwerte_03668_20230303_20240902.txt', 'Metadaten_Geraete_Niederschlag_Gefallen_Ind_04928.txt', 'Metadaten_Fehlwerte_01420_20230303_20240902.txt', 'Metadaten_Geraete_Niederschlagsform_02667.txt', 'Metadaten_Geographie_00691.txt', 'Metadaten_Stationsname_Betreibername_04928.txt', 'Metadaten_Geographie_13670.txt', 'Metadaten_Geographie_02667.txt', 'Metadaten_Stationsname_Betreibername_01766.html', 'Metadaten_Fehldaten_07106_20230303_20240902.html', 'Metadaten_Stationsname_Betreibername_05717.txt', 'Metadaten_Geraete_Niederschlag_Gefallen_Ind_01303.html', 'Metadaten_Parameter_rr_stunde_01420.html', 'Metadaten_Fehldaten_01420_20230303_20240902.html', 'Metadaten_Geraete_Niederschlagsform_01303.txt', 'stundenwerte_RR_02968_akt.zip', 'Metadaten_Fehldaten_00691_20230303_20240902.txt', 'Metadaten_Stationsname_Betreibername_01078.txt', 'Metadaten_Fehlwerte_07106_20230303_20240902.txt', 'Metadaten_Geraete_Niederschlag_Gefallen_Ind_03379.html', 'Metadaten_Geraete_Niederschlagsform_01420.txt', 'Metadaten_Fehlwerte_13670_20230303_20240902.txt', 'Metadaten_Parameter_rr_stunde_02014.html', 'stundenwerte_RR_02928_akt.zip', 'Metadaten_Geraete_Niederschlagsform_04928.html', 'Metadaten_Fehldaten_05717_20230303_20240902.html', 'stundenwerte_RR_04928_akt.zip', 'Metadaten_Geraete_Niederschlagshoehe_01766.html', 'Metadaten_Geraete_Niederschlagsform_02667.html', 'Precipitacion_Berlin_00433.txt', 'Metadaten_Stationsname_Betreibername_07106.html', 'Metadaten_Stationsname_Betreibername_00433.txt', 'stundenwerte_RR_03379_akt.zip', 'Metadaten_Fehldaten_01975_20230303_20240902.html', 'Metadaten_Parameter_rr_stunde_02667.html', 'Metadaten_Geographie_01766.txt', 'stundenwerte_RR_01303_akt.zip', 'Metadaten_Geraete_Niederschlagsform_01303.html', 'Metadaten_Parameter_rr_stunde_01078.txt', 'stundenwerte_RR_03668_akt.zip', 'Metadaten_Geraete_Niederschlagshoehe_02014.html', 'Metadaten_Geraete_Niederschlagsform_01420.html', 'Metadaten_Stationsname_Betreibername_01420.html', 'Metadaten_Geraete_Niederschlag_Gefallen_Ind_01766.html', 'Metadaten_Geraete_Niederschlagshoehe_13670.html', 'Metadaten_Geraete_Niederschlagshoehe_00433.txt', 'stundenwerte_RR_07106_akt.zip', 'Precipitacion_Duisburg_13670.txt', 'Metadaten_Geraete_Niederschlagsform_02928.txt', 'Metadaten_Geraete_Niederschlagsform_00691.txt', 'stundenwerte_RR_00555_akt.zip', 'Metadaten_Fehlwerte_01975_20230303_20240902.txt', 'Metadaten_Geraete_Niederschlagshoehe_03379.txt', 'Metadaten_Fehldaten_01078_20230303_20240902.html', 'Metadaten_Geraete_Niederschlagshoehe_01420.txt', 'Metadaten_Geraete_Niederschlagsform_01048.html', 'Metadaten_Stationsname_Betreibername_03379.txt', 'Metadaten_Fehldaten_02014_20230303_20240902.txt', 'Metadaten_Geraete_Niederschlagsform_04928.txt', 'Metadaten_Geraete_Niederschlag_Gefallen_Ind_02014.txt', 'stundenwerte_RR_00691_akt.zip', 'Metadaten_Geraete_Niederschlagshoehe_02968.txt', 'Metadaten_Parameter_rr_stunde_02968.html', 'Metadaten_Geographie_01048.txt', 'Metadaten_Geraete_Niederschlag_Gefallen_Ind_02928.html', 'Metadaten_Parameter_rr_stunde_02483.txt', 'Metadaten_Geraete_Niederschlag_Gefallen_Ind_02928.txt', 'Metadaten_Fehldaten_01975_20230303_20240902.txt', 'Metadaten_Geographie_02968.txt', 'Metadaten_Fehldaten_02014_20230303_20240902.html', 'Precipitacion_Bielefeld_07106.txt', 'Metadaten_Parameter_rr_stunde_01048.html', 'Metadaten_Geraete_Niederschlagsform_01766.html', 'Precipitacion_Leipzig_02928.txt', 'Metadaten_Parameter_rr_stunde_03379.html', 'Metadaten_Geraete_Niederschlagshoehe_01303.txt', 'Metadaten_Parameter_rr_stunde_03668.txt', 'Metadaten_Fehldaten_13670_20230303_20240902.txt', 'stundenwerte_RR_01766_akt.zip', 'Metadaten_Geraete_Niederschlagshoehe_03668.txt', 'Precipitacion_Munchen_03379.txt', 'Metadaten_Fehldaten_01078_20230303_20240902.txt', 'Metadaten_Parameter_rr_stunde_01303.txt', 'Metadaten_Fehldaten_05717_20230303_20240902.txt', 'Metadaten_Geographie_07106.txt', 'stundenwerte_RR_02014_akt.zip', 'Metadaten_Parameter_rr_stunde_04928.txt', 'Metadaten_Geraete_Niederschlagshoehe_04928.html', 'Metadaten_Geraete_Niederschlagshoehe_03379.html', 'Metadaten_Fehlwerte_02968_20230303_20240902.txt', 'Metadaten_Fehldaten_00433_20230303_20240902.txt', 'Metadaten_Parameter_rr_stunde_01766.txt', 'Metadaten_Parameter_rr_stunde_01975.txt', 'Metadaten_Geraete_Niederschlag_Gefallen_Ind_02483.txt', 'Metadaten_Fehldaten_00433_20230303_20240902.html', 'Metadaten_Parameter_rr_stunde_01766.html', 'Metadaten_Geographie_00555.txt', 'Metadaten_Fehldaten_03668_20230303_20240902.html', 'Metadaten_Stationsname_Betreibername_00555.txt', 'Metadaten_Fehldaten_02667_20230303_20240902.txt', 'Precipitacion_Essen_01303.txt', 'stundenwerte_RR_01975_akt.zip', 'Precipitacion_Wuppertal_05717.txt', 'stundenwerte_RR_01420_akt.zip', 'Metadaten_Geraete_Niederschlagsform_00433.html', 'Precipitacion_Stuttgart_04928.txt', 'Metadaten_Fehldaten_02483_20230303_20240902.txt', 'Metadaten_Parameter_rr_stunde_02968.txt', 'Metadaten_Geographie_01303.txt', 'Metadaten_Geraete_Niederschlagshoehe_01303.html', 'Metadaten_Fehldaten_02928_20230303_20240902.txt', 'Metadaten_Stationsname_Betreibername_07106.txt', 'stundenwerte_RR_13670_akt.zip', 'Precipitacion_Bochum_00555.txt', 'Metadaten_Stationsname_Betreibername_01766.txt', 'Metadaten_Geographie_02014.txt', 'Metadaten_Geraete_Niederschlagshoehe_07106.html', 'Metadaten_Fehlwerte_02483_20230303_20240902.txt', 'Metadaten_Geraete_Niederschlagsform_02014.txt', 'Metadaten_Geraete_Niederschlagshoehe_02667.txt', 'Metadaten_Geraete_Niederschlag_Gefallen_Ind_01420.txt', 'Metadaten_Geraete_Niederschlagsform_03379.html', 'Metadaten_Parameter_rr_stunde_00555.txt', 'Metadaten_Stationsname_Betreibername_03668.html', 'Metadaten_Fehlwerte_01766_20230303_20240902.txt', 'Metadaten_Stationsname_Betreibername_02928.html', 'stundenwerte_RR_01048_akt.zip', 'Metadaten_Stationsname_Betreibername_02968.txt', 'Metadaten_Parameter_rr_stunde_05717.txt', 'Metadaten_Geraete_Niederschlag_Gefallen_Ind_02483.html', 'Metadaten_Parameter_rr_stunde_02667.txt', 'Metadaten_Geraete_Niederschlagsform_01078.html', 'Metadaten_Geraete_Niederschlagsform_01078.txt', 'Metadaten_Fehlwerte_02928_20230303_20240902.txt', 'Metadaten_Geraete_Niederschlagshoehe_02968.html', 'Metadaten_Parameter_rr_stunde_13670.txt', 'Metadaten_Geraete_Niederschlag_Gefallen_Ind_02667.html', 'Metadaten_Stationsname_Betreibername_05717.html', 'Metadaten_Geraete_Niederschlagshoehe_02014.txt', 'Metadaten_Geraete_Niederschlag_Gefallen_Ind_00691.txt', 'Metadaten_Fehlwerte_02667_20230303_20240902.txt', 'Metadaten_Parameter_rr_stunde_00691.txt', 'Metadaten_Parameter_rr_stunde_01303.html', 'Metadaten_Fehlwerte_00433_20230303_20240902.txt', 'Precipitacion_Hannover_02014.txt', 'Metadaten_Parameter_rr_stunde_01420.txt', 'Precipitacion_Bonn_02667.txt', 'Metadaten_Geraete_Niederschlagsform_01975.txt', 'Metadaten_Geraete_Niederschlagshoehe_02483.txt', 'Metadaten_Geographie_01078.txt', 'Metadaten_Stationsname_Betreibername_02483.html', 'Metadaten_Stationsname_Betreibername_01048.txt', 'Metadaten_Geographie_05717.txt', 'Metadaten_Stationsname_Betreibername_02928.txt', 'Metadaten_Geraete_Niederschlagshoehe_01975.html', 'Metadaten_Geraete_Niederschlagsform_01766.txt', 'Metadaten_Stationsname_Betreibername_03379.html', 'Metadaten_Parameter_rr_stunde_00433.html', 'Metadaten_Fehldaten_02968_20230303_20240902.txt', 'Metadaten_Geraete_Niederschlagshoehe_00555.html', 'Precipitacion_Düsseldorf_01078.txt', 'Metadaten_Fehldaten_13670_20230303_20240902.html', 'Metadaten_Geraete_Niederschlagshoehe_01766.txt', 'stundenwerte_RR_02667_akt.zip', 'Metadaten_Parameter_rr_stunde_02928.txt', 'Metadaten_Geraete_Niederschlagshoehe_01975.txt', 'Metadaten_Geraete_Niederschlagsform_00691.html', 'Metadaten_Stationsname_Betreibername_02968.html', 'Metadaten_Geraete_Niederschlagshoehe_02483.html', 'stundenwerte_RR_02483_akt.zip', 'Metadaten_Parameter_rr_stunde_00555.html', 'Metadaten_Geraete_Niederschlagsform_01975.html', 'Metadaten_Geographie_02928.txt', 'Metadaten_Stationsname_Betreibername_13670.html', 'Metadaten_Geraete_Niederschlagshoehe_00691.txt', 'Metadaten_Fehldaten_01420_20230303_20240902.txt', 'Metadaten_Geraete_Niederschlagshoehe_00555.txt', 'Metadaten_Stationsname_Betreibername_13670.txt', 'Metadaten_Parameter_rr_stunde_03668.html', 'Metadaten_Fehldaten_03668_20230303_20240902.txt', 'Metadaten_Geraete_Niederschlagshoehe_02928.txt', 'Metadaten_Stationsname_Betreibername_02667.html', 'Metadaten_Geraete_Niederschlagshoehe_00691.html', 'Metadaten_Geraete_Niederschlagsform_03668.html', 'Metadaten_Geographie_00433.txt', 'Metadaten_Stationsname_Betreibername_02014.txt', 'Metadaten_Fehlwerte_02014_20230303_20240902.txt', 'Metadaten_Geraete_Niederschlag_Gefallen_Ind_01975.html', 'Metadaten_Parameter_rr_stunde_00691.html', 'Metadaten_Geraete_Niederschlagshoehe_01078.html', 'Metadaten_Geraete_Niederschlagshoehe_05717.txt', 'Metadaten_Stationsname_Betreibername_00691.txt', 'Precipitacion_Hamburg_01975.txt', 'Metadaten_Fehldaten_02928_20230303_20240902.html', 'Metadaten_Geraete_Niederschlagsform_02483.html', 'Metadaten_Geraete_Niederschlag_Gefallen_Ind_03379.txt', 'Metadaten_Geraete_Niederschlagshoehe_04928.txt', 'Metadaten_Parameter_rr_stunde_02928.html', 'Metadaten_Geraete_Niederschlagshoehe_13670.txt', 'Metadaten_Geraete_Niederschlagsform_02483.txt', 'Metadaten_Fehldaten_01766_20230303_20240902.txt', 'Metadaten_Geographie_02483.txt', 'Metadaten_Parameter_rr_stunde_00433.txt', 'Metadaten_Parameter_rr_stunde_07106.txt', 'Metadaten_Stationsname_Betreibername_01420.txt', 'Precipitacion_Koln_02968.txt', 'Metadaten_Geraete_Niederschlag_Gefallen_Ind_01048.txt', 'Metadaten_Stationsname_Betreibername_01048.html', 'Precipitacion_Dortmund_02483.txt', 'Metadaten_Geraete_Niederschlag_Gefallen_Ind_00433.html', 'Metadaten_Geraete_Niederschlag_Gefallen_Ind_03668.html', 'Precipitacion_Nürnberg_03668.txt', 'Metadaten_Geraete_Niederschlag_Gefallen_Ind_01078.html', 'Metadaten_Stationsname_Betreibername_03668.txt', 'Metadaten_Geraete_Niederschlag_Gefallen_Ind_01078.txt', 'Metadaten_Parameter_rr_stunde_05717.html', 'stundenwerte_RR_00433_akt.zip', 'Precipitacion_Bremen_00691.txt', 'Metadaten_Stationsname_Betreibername_02483.txt', 'Metadaten_Geraete_Niederschlag_Gefallen_Ind_02667.txt', 'Metadaten_Stationsname_Betreibername_02014.html', 'Metadaten_Fehlwerte_01078_20230303_20240902.txt', 'Precipitacion_Dresden_01048.txt', 'Metadaten_Stationsname_Betreibername_00691.html', 'Metadaten_Geraete_Niederschlag_Gefallen_Ind_01303.txt', 'Metadaten_Fehldaten_01766_20230303_20240902.html', 'Metadaten_Stationsname_Betreibername_04928.html', 'Metadaten_Parameter_rr_stunde_13670.html', 'Metadaten_Fehldaten_07106_20230303_20240902.txt', 'Metadaten_Stationsname_Betreibername_02667.txt', 'Metadaten_Geraete_Niederschlagshoehe_01048.txt', 'Metadaten_Geraete_Niederschlagshoehe_07106.txt', 'Metadaten_Parameter_rr_stunde_01078.html', 'stundenwerte_RR_01078_akt.zip', 'Metadaten_Parameter_rr_stunde_04928.html', 'Metadaten_Parameter_rr_stunde_07106.html', 'Metadaten_Parameter_rr_stunde_03379.txt', 'Metadaten_Parameter_rr_stunde_02014.txt', 'Metadaten_Geraete_Niederschlag_Gefallen_Ind_00691.html', 'Metadaten_Geraete_Niederschlagsform_00433.txt', 'Metadaten_Geraete_Niederschlag_Gefallen_Ind_01048.html', 'Metadaten_Fehlwerte_00691_20230303_20240902.txt', 'Metadaten_Stationsname_Betreibername_01303.txt', 'Metadaten_Geographie_04928.txt', 'Metadaten_Geraete_Niederschlagshoehe_03668.html', 'stundenwerte_RR_05717_akt.zip', 'Metadaten_Geraete_Niederschlag_Gefallen_Ind_04928.html', 'Metadaten_Geraete_Niederschlagshoehe_01078.txt', 'Metadaten_Geographie_03379.txt', 'Metadaten_Geraete_Niederschlagshoehe_02667.html', 'Metadaten_Geraete_Niederschlagshoehe_01420.html', 'Metadaten_Geraete_Niederschlag_Gefallen_Ind_00433.txt', 'Metadaten_Geraete_Niederschlagshoehe_01048.html', 'Metadaten_Fehldaten_02483_20230303_20240902.html', 'Metadaten_Stationsname_Betreibername_00433.html', 'Metadaten_Geraete_Niederschlagshoehe_00433.html', 'Metadaten_Geraete_Niederschlag_Gefallen_Ind_01975.txt', 'Metadaten_Parameter_rr_stunde_01975.html', 'Metadaten_Fehldaten_02968_20230303_20240902.html', 'Metadaten_Geraete_Niederschlagsform_03668.txt', 'Metadaten_Geraete_Niederschlagshoehe_05717.html', 'Metadaten_Stationsname_Betreibername_00555.html', 'Metadaten_Fehlwerte_05717_20230303_20240902.txt', 'Precipitacion_Frankfurt_am_Main_01420.txt']\n"
          ]
        }
      ]
    },
    {
      "cell_type": "markdown",
      "source": [
        "** EXTREME WIND - VIENTO EXTREMO**"
      ],
      "metadata": {
        "id": "orT_Iz_LX78m"
      }
    },
    {
      "cell_type": "code",
      "source": [
        "#######                                          W I N D          -        V I E N T O    E X T R E M O\n",
        "\n",
        "# URL de la página web\n",
        "url = \"https://opendata.dwd.de/climate_environment/CDC/observations_germany/climate/hourly/extreme_wind/recent//\"\n",
        "\n",
        "# Mapeo de IDs de estaciones a nombres de ciudades\n",
        "station_to_city = {\n",
        "    '00433': 'Berlin',\n",
        "    '00954': 'Hamburg', #UFS Deutsche Bucht\n",
        "    '03379': 'Munchen',\n",
        "    '15000': 'Koln', #Aachen\n",
        "    '01420': 'Frankfurt_am_Main',\n",
        "    '04928': 'Stuttgart',\n",
        "    '01078': 'Düsseldorf',\n",
        "    '02928': 'Leipzig', #Leipzig-Holzhausen\n",
        "    '01303': 'Essen',\n",
        "    '00691': 'Bremen',\n",
        "    '01048': 'Dresden',\n",
        "    '02014': 'Hannover',\n",
        "    '03668': 'Nürnberg',\n",
        "    '03321': 'Duisburg', #Mönchengladbach\n",
        "    '03098': 'Bochum', # Lüdenscheid\n",
        "    '15200': 'Wuppertal',\n",
        "    '04371': 'Bielefeld', #Bad Salzufen\n",
        "    '02667': 'Bonn', #Bonn-Koln\n",
        "    '01766': 'Münster(Westf)',\n",
        "    '02483': 'Dortmund', #Kahler Asten\n",
        "}\n",
        "\n",
        "\n",
        "# IDs de las estaciones a buscar\n",
        "station_ids = list(station_to_city.keys())\n",
        "\n",
        "# Crear directorio para guardar los archivos si no existe\n",
        "upload_dir = \"/content/viento\"\n",
        "os.makedirs(upload_dir, exist_ok=True)\n",
        "\n",
        "# Realizar una solicitud GET a la página web\n",
        "response = requests.get(url)\n",
        "\n",
        "# Verificar que la solicitud fue exitosa\n",
        "if response.status_code == 200:\n",
        "    # Parsear el contenido HTML de la página web\n",
        "    soup = BeautifulSoup(response.content, 'html.parser')\n",
        "\n",
        "    # Encontrar todos los enlaces en la página\n",
        "    links = soup.find_all('a')\n",
        "\n",
        "    # Crear un set para rastrear archivos descargados\n",
        "    downloaded_files = set()\n",
        "\n",
        "    # Iterar sobre cada ID de estación\n",
        "    for station_id in station_ids:\n",
        "        # Buscar el enlace que contiene el ID de la estación\n",
        "        for link in links:\n",
        "            if f'stundenwerte_FX_{station_id}_akt.zip' in link.get('href'):\n",
        "                file_url = url + link.get('href')\n",
        "                print(f\"Descargando el archivo desde {file_url}\")\n",
        "\n",
        "                # Descargar el archivo y guardarlo\n",
        "                file_name = link.get('href').split('/')[-1]\n",
        "                local_zip_path = os.path.join(upload_dir, file_name)\n",
        "                urllib.request.urlretrieve(file_url, local_zip_path)\n",
        "                print(f\"Archivo {file_name} descargado exitosamente.\")\n",
        "\n",
        "                # Extraer el archivo zip\n",
        "                with zipfile.ZipFile(local_zip_path, 'r') as zip_ref:\n",
        "                    zip_ref.extractall(upload_dir)\n",
        "\n",
        "                # Renombrar y descargar el archivo relevante\n",
        "                extracted_files = os.listdir(upload_dir)\n",
        "                for extracted_file in extracted_files:\n",
        "                    if extracted_file.startswith(\"produkt_fx_stunde\") and extracted_file.endswith(\".txt\"):\n",
        "                        original_file_path = os.path.join(upload_dir, extracted_file)\n",
        "                        city_name = station_to_city[station_id]\n",
        "                        new_file_name = f\"Extreme_wind_{city_name}_{station_id}.txt\"\n",
        "                        new_file_path = os.path.join(upload_dir, new_file_name)\n",
        "\n",
        "                        # Renombrar archivo\n",
        "                        os.rename(original_file_path, new_file_path)\n",
        "\n",
        "                        # Chequear si el archivo ya fue descargado\n",
        "                        if new_file_name not in downloaded_files:\n",
        "                            files.download(new_file_path)\n",
        "                            downloaded_files.add(new_file_name)\n",
        "                break\n",
        "else:\n",
        "    print(\"No se pudo acceder a la página web.\")\n",
        "\n",
        "# Verificar los archivos en la carpeta después de renombrar\n",
        "print(\"\\nArchivos después de renombrar:\")\n",
        "print(os.listdir(upload_dir))"
      ],
      "metadata": {
        "id": "yx0xDqbSkmxv",
        "colab": {
          "base_uri": "https://localhost:8080/",
          "height": 798
        },
        "outputId": "6cdde0e1-d2f9-4936-831d-6211604e80f6"
      },
      "execution_count": 3,
      "outputs": [
        {
          "output_type": "stream",
          "name": "stdout",
          "text": [
            "Descargando el archivo desde https://opendata.dwd.de/climate_environment/CDC/observations_germany/climate/hourly/extreme_wind/recent//stundenwerte_FX_00433_akt.zip\n",
            "Archivo stundenwerte_FX_00433_akt.zip descargado exitosamente.\n"
          ]
        },
        {
          "output_type": "display_data",
          "data": {
            "text/plain": [
              "<IPython.core.display.Javascript object>"
            ],
            "application/javascript": [
              "\n",
              "    async function download(id, filename, size) {\n",
              "      if (!google.colab.kernel.accessAllowed) {\n",
              "        return;\n",
              "      }\n",
              "      const div = document.createElement('div');\n",
              "      const label = document.createElement('label');\n",
              "      label.textContent = `Downloading \"${filename}\": `;\n",
              "      div.appendChild(label);\n",
              "      const progress = document.createElement('progress');\n",
              "      progress.max = size;\n",
              "      div.appendChild(progress);\n",
              "      document.body.appendChild(div);\n",
              "\n",
              "      const buffers = [];\n",
              "      let downloaded = 0;\n",
              "\n",
              "      const channel = await google.colab.kernel.comms.open(id);\n",
              "      // Send a message to notify the kernel that we're ready.\n",
              "      channel.send({})\n",
              "\n",
              "      for await (const message of channel.messages) {\n",
              "        // Send a message to notify the kernel that we're ready.\n",
              "        channel.send({})\n",
              "        if (message.buffers) {\n",
              "          for (const buffer of message.buffers) {\n",
              "            buffers.push(buffer);\n",
              "            downloaded += buffer.byteLength;\n",
              "            progress.value = downloaded;\n",
              "          }\n",
              "        }\n",
              "      }\n",
              "      const blob = new Blob(buffers, {type: 'application/binary'});\n",
              "      const a = document.createElement('a');\n",
              "      a.href = window.URL.createObjectURL(blob);\n",
              "      a.download = filename;\n",
              "      div.appendChild(a);\n",
              "      a.click();\n",
              "      div.remove();\n",
              "    }\n",
              "  "
            ]
          },
          "metadata": {}
        },
        {
          "output_type": "display_data",
          "data": {
            "text/plain": [
              "<IPython.core.display.Javascript object>"
            ],
            "application/javascript": [
              "download(\"download_64a985f6-98cd-4921-aa3c-7f9262a603ac\", \"Extreme_wind_Berlin_00433.txt\", 540338)"
            ]
          },
          "metadata": {}
        },
        {
          "output_type": "stream",
          "name": "stdout",
          "text": [
            "Descargando el archivo desde https://opendata.dwd.de/climate_environment/CDC/observations_germany/climate/hourly/extreme_wind/recent//stundenwerte_FX_00954_akt.zip\n",
            "Archivo stundenwerte_FX_00954_akt.zip descargado exitosamente.\n"
          ]
        },
        {
          "output_type": "display_data",
          "data": {
            "text/plain": [
              "<IPython.core.display.Javascript object>"
            ],
            "application/javascript": [
              "\n",
              "    async function download(id, filename, size) {\n",
              "      if (!google.colab.kernel.accessAllowed) {\n",
              "        return;\n",
              "      }\n",
              "      const div = document.createElement('div');\n",
              "      const label = document.createElement('label');\n",
              "      label.textContent = `Downloading \"${filename}\": `;\n",
              "      div.appendChild(label);\n",
              "      const progress = document.createElement('progress');\n",
              "      progress.max = size;\n",
              "      div.appendChild(progress);\n",
              "      document.body.appendChild(div);\n",
              "\n",
              "      const buffers = [];\n",
              "      let downloaded = 0;\n",
              "\n",
              "      const channel = await google.colab.kernel.comms.open(id);\n",
              "      // Send a message to notify the kernel that we're ready.\n",
              "      channel.send({})\n",
              "\n",
              "      for await (const message of channel.messages) {\n",
              "        // Send a message to notify the kernel that we're ready.\n",
              "        channel.send({})\n",
              "        if (message.buffers) {\n",
              "          for (const buffer of message.buffers) {\n",
              "            buffers.push(buffer);\n",
              "            downloaded += buffer.byteLength;\n",
              "            progress.value = downloaded;\n",
              "          }\n",
              "        }\n",
              "      }\n",
              "      const blob = new Blob(buffers, {type: 'application/binary'});\n",
              "      const a = document.createElement('a');\n",
              "      a.href = window.URL.createObjectURL(blob);\n",
              "      a.download = filename;\n",
              "      div.appendChild(a);\n",
              "      a.click();\n",
              "      div.remove();\n",
              "    }\n",
              "  "
            ]
          },
          "metadata": {}
        },
        {
          "output_type": "display_data",
          "data": {
            "text/plain": [
              "<IPython.core.display.Javascript object>"
            ],
            "application/javascript": [
              "download(\"download_871e9985-0601-421b-9c75-9531f9e400e6\", \"Extreme_wind_Hamburg_00954.txt\", 179157)"
            ]
          },
          "metadata": {}
        },
        {
          "output_type": "stream",
          "name": "stdout",
          "text": [
            "Descargando el archivo desde https://opendata.dwd.de/climate_environment/CDC/observations_germany/climate/hourly/extreme_wind/recent//stundenwerte_FX_03379_akt.zip\n",
            "Archivo stundenwerte_FX_03379_akt.zip descargado exitosamente.\n"
          ]
        },
        {
          "output_type": "display_data",
          "data": {
            "text/plain": [
              "<IPython.core.display.Javascript object>"
            ],
            "application/javascript": [
              "\n",
              "    async function download(id, filename, size) {\n",
              "      if (!google.colab.kernel.accessAllowed) {\n",
              "        return;\n",
              "      }\n",
              "      const div = document.createElement('div');\n",
              "      const label = document.createElement('label');\n",
              "      label.textContent = `Downloading \"${filename}\": `;\n",
              "      div.appendChild(label);\n",
              "      const progress = document.createElement('progress');\n",
              "      progress.max = size;\n",
              "      div.appendChild(progress);\n",
              "      document.body.appendChild(div);\n",
              "\n",
              "      const buffers = [];\n",
              "      let downloaded = 0;\n",
              "\n",
              "      const channel = await google.colab.kernel.comms.open(id);\n",
              "      // Send a message to notify the kernel that we're ready.\n",
              "      channel.send({})\n",
              "\n",
              "      for await (const message of channel.messages) {\n",
              "        // Send a message to notify the kernel that we're ready.\n",
              "        channel.send({})\n",
              "        if (message.buffers) {\n",
              "          for (const buffer of message.buffers) {\n",
              "            buffers.push(buffer);\n",
              "            downloaded += buffer.byteLength;\n",
              "            progress.value = downloaded;\n",
              "          }\n",
              "        }\n",
              "      }\n",
              "      const blob = new Blob(buffers, {type: 'application/binary'});\n",
              "      const a = document.createElement('a');\n",
              "      a.href = window.URL.createObjectURL(blob);\n",
              "      a.download = filename;\n",
              "      div.appendChild(a);\n",
              "      a.click();\n",
              "      div.remove();\n",
              "    }\n",
              "  "
            ]
          },
          "metadata": {}
        },
        {
          "output_type": "display_data",
          "data": {
            "text/plain": [
              "<IPython.core.display.Javascript object>"
            ],
            "application/javascript": [
              "download(\"download_fe14c8b2-4e9d-4a6b-aa81-a4c085f0c32a\", \"Extreme_wind_Munchen_03379.txt\", 541117)"
            ]
          },
          "metadata": {}
        },
        {
          "output_type": "stream",
          "name": "stdout",
          "text": [
            "Descargando el archivo desde https://opendata.dwd.de/climate_environment/CDC/observations_germany/climate/hourly/extreme_wind/recent//stundenwerte_FX_15000_akt.zip\n",
            "Archivo stundenwerte_FX_15000_akt.zip descargado exitosamente.\n"
          ]
        },
        {
          "output_type": "display_data",
          "data": {
            "text/plain": [
              "<IPython.core.display.Javascript object>"
            ],
            "application/javascript": [
              "\n",
              "    async function download(id, filename, size) {\n",
              "      if (!google.colab.kernel.accessAllowed) {\n",
              "        return;\n",
              "      }\n",
              "      const div = document.createElement('div');\n",
              "      const label = document.createElement('label');\n",
              "      label.textContent = `Downloading \"${filename}\": `;\n",
              "      div.appendChild(label);\n",
              "      const progress = document.createElement('progress');\n",
              "      progress.max = size;\n",
              "      div.appendChild(progress);\n",
              "      document.body.appendChild(div);\n",
              "\n",
              "      const buffers = [];\n",
              "      let downloaded = 0;\n",
              "\n",
              "      const channel = await google.colab.kernel.comms.open(id);\n",
              "      // Send a message to notify the kernel that we're ready.\n",
              "      channel.send({})\n",
              "\n",
              "      for await (const message of channel.messages) {\n",
              "        // Send a message to notify the kernel that we're ready.\n",
              "        channel.send({})\n",
              "        if (message.buffers) {\n",
              "          for (const buffer of message.buffers) {\n",
              "            buffers.push(buffer);\n",
              "            downloaded += buffer.byteLength;\n",
              "            progress.value = downloaded;\n",
              "          }\n",
              "        }\n",
              "      }\n",
              "      const blob = new Blob(buffers, {type: 'application/binary'});\n",
              "      const a = document.createElement('a');\n",
              "      a.href = window.URL.createObjectURL(blob);\n",
              "      a.download = filename;\n",
              "      div.appendChild(a);\n",
              "      a.click();\n",
              "      div.remove();\n",
              "    }\n",
              "  "
            ]
          },
          "metadata": {}
        },
        {
          "output_type": "display_data",
          "data": {
            "text/plain": [
              "<IPython.core.display.Javascript object>"
            ],
            "application/javascript": [
              "download(\"download_f4fd8118-a4ef-47c5-bc80-4e7aae7ef07e\", \"Extreme_wind_Koln_15000.txt\", 537919)"
            ]
          },
          "metadata": {}
        },
        {
          "output_type": "stream",
          "name": "stdout",
          "text": [
            "Descargando el archivo desde https://opendata.dwd.de/climate_environment/CDC/observations_germany/climate/hourly/extreme_wind/recent//stundenwerte_FX_01420_akt.zip\n",
            "Archivo stundenwerte_FX_01420_akt.zip descargado exitosamente.\n"
          ]
        },
        {
          "output_type": "display_data",
          "data": {
            "text/plain": [
              "<IPython.core.display.Javascript object>"
            ],
            "application/javascript": [
              "\n",
              "    async function download(id, filename, size) {\n",
              "      if (!google.colab.kernel.accessAllowed) {\n",
              "        return;\n",
              "      }\n",
              "      const div = document.createElement('div');\n",
              "      const label = document.createElement('label');\n",
              "      label.textContent = `Downloading \"${filename}\": `;\n",
              "      div.appendChild(label);\n",
              "      const progress = document.createElement('progress');\n",
              "      progress.max = size;\n",
              "      div.appendChild(progress);\n",
              "      document.body.appendChild(div);\n",
              "\n",
              "      const buffers = [];\n",
              "      let downloaded = 0;\n",
              "\n",
              "      const channel = await google.colab.kernel.comms.open(id);\n",
              "      // Send a message to notify the kernel that we're ready.\n",
              "      channel.send({})\n",
              "\n",
              "      for await (const message of channel.messages) {\n",
              "        // Send a message to notify the kernel that we're ready.\n",
              "        channel.send({})\n",
              "        if (message.buffers) {\n",
              "          for (const buffer of message.buffers) {\n",
              "            buffers.push(buffer);\n",
              "            downloaded += buffer.byteLength;\n",
              "            progress.value = downloaded;\n",
              "          }\n",
              "        }\n",
              "      }\n",
              "      const blob = new Blob(buffers, {type: 'application/binary'});\n",
              "      const a = document.createElement('a');\n",
              "      a.href = window.URL.createObjectURL(blob);\n",
              "      a.download = filename;\n",
              "      div.appendChild(a);\n",
              "      a.click();\n",
              "      div.remove();\n",
              "    }\n",
              "  "
            ]
          },
          "metadata": {}
        },
        {
          "output_type": "display_data",
          "data": {
            "text/plain": [
              "<IPython.core.display.Javascript object>"
            ],
            "application/javascript": [
              "download(\"download_c8094ea2-21e2-49f4-afe8-ee368f4a6765\", \"Extreme_wind_Frankfurt_am_Main_01420.txt\", 522011)"
            ]
          },
          "metadata": {}
        },
        {
          "output_type": "stream",
          "name": "stdout",
          "text": [
            "Descargando el archivo desde https://opendata.dwd.de/climate_environment/CDC/observations_germany/climate/hourly/extreme_wind/recent//stundenwerte_FX_04928_akt.zip\n",
            "Archivo stundenwerte_FX_04928_akt.zip descargado exitosamente.\n"
          ]
        },
        {
          "output_type": "display_data",
          "data": {
            "text/plain": [
              "<IPython.core.display.Javascript object>"
            ],
            "application/javascript": [
              "\n",
              "    async function download(id, filename, size) {\n",
              "      if (!google.colab.kernel.accessAllowed) {\n",
              "        return;\n",
              "      }\n",
              "      const div = document.createElement('div');\n",
              "      const label = document.createElement('label');\n",
              "      label.textContent = `Downloading \"${filename}\": `;\n",
              "      div.appendChild(label);\n",
              "      const progress = document.createElement('progress');\n",
              "      progress.max = size;\n",
              "      div.appendChild(progress);\n",
              "      document.body.appendChild(div);\n",
              "\n",
              "      const buffers = [];\n",
              "      let downloaded = 0;\n",
              "\n",
              "      const channel = await google.colab.kernel.comms.open(id);\n",
              "      // Send a message to notify the kernel that we're ready.\n",
              "      channel.send({})\n",
              "\n",
              "      for await (const message of channel.messages) {\n",
              "        // Send a message to notify the kernel that we're ready.\n",
              "        channel.send({})\n",
              "        if (message.buffers) {\n",
              "          for (const buffer of message.buffers) {\n",
              "            buffers.push(buffer);\n",
              "            downloaded += buffer.byteLength;\n",
              "            progress.value = downloaded;\n",
              "          }\n",
              "        }\n",
              "      }\n",
              "      const blob = new Blob(buffers, {type: 'application/binary'});\n",
              "      const a = document.createElement('a');\n",
              "      a.href = window.URL.createObjectURL(blob);\n",
              "      a.download = filename;\n",
              "      div.appendChild(a);\n",
              "      a.click();\n",
              "      div.remove();\n",
              "    }\n",
              "  "
            ]
          },
          "metadata": {}
        },
        {
          "output_type": "display_data",
          "data": {
            "text/plain": [
              "<IPython.core.display.Javascript object>"
            ],
            "application/javascript": [
              "download(\"download_b9200490-dbd8-43fe-8417-dca428ea49f1\", \"Extreme_wind_Stuttgart_04928.txt\", 538083)"
            ]
          },
          "metadata": {}
        },
        {
          "output_type": "stream",
          "name": "stdout",
          "text": [
            "Descargando el archivo desde https://opendata.dwd.de/climate_environment/CDC/observations_germany/climate/hourly/extreme_wind/recent//stundenwerte_FX_01078_akt.zip\n",
            "Archivo stundenwerte_FX_01078_akt.zip descargado exitosamente.\n"
          ]
        },
        {
          "output_type": "display_data",
          "data": {
            "text/plain": [
              "<IPython.core.display.Javascript object>"
            ],
            "application/javascript": [
              "\n",
              "    async function download(id, filename, size) {\n",
              "      if (!google.colab.kernel.accessAllowed) {\n",
              "        return;\n",
              "      }\n",
              "      const div = document.createElement('div');\n",
              "      const label = document.createElement('label');\n",
              "      label.textContent = `Downloading \"${filename}\": `;\n",
              "      div.appendChild(label);\n",
              "      const progress = document.createElement('progress');\n",
              "      progress.max = size;\n",
              "      div.appendChild(progress);\n",
              "      document.body.appendChild(div);\n",
              "\n",
              "      const buffers = [];\n",
              "      let downloaded = 0;\n",
              "\n",
              "      const channel = await google.colab.kernel.comms.open(id);\n",
              "      // Send a message to notify the kernel that we're ready.\n",
              "      channel.send({})\n",
              "\n",
              "      for await (const message of channel.messages) {\n",
              "        // Send a message to notify the kernel that we're ready.\n",
              "        channel.send({})\n",
              "        if (message.buffers) {\n",
              "          for (const buffer of message.buffers) {\n",
              "            buffers.push(buffer);\n",
              "            downloaded += buffer.byteLength;\n",
              "            progress.value = downloaded;\n",
              "          }\n",
              "        }\n",
              "      }\n",
              "      const blob = new Blob(buffers, {type: 'application/binary'});\n",
              "      const a = document.createElement('a');\n",
              "      a.href = window.URL.createObjectURL(blob);\n",
              "      a.download = filename;\n",
              "      div.appendChild(a);\n",
              "      a.click();\n",
              "      div.remove();\n",
              "    }\n",
              "  "
            ]
          },
          "metadata": {}
        },
        {
          "output_type": "display_data",
          "data": {
            "text/plain": [
              "<IPython.core.display.Javascript object>"
            ],
            "application/javascript": [
              "download(\"download_11fae0cc-dd07-4cd1-b287-8179459a966d\", \"Extreme_wind_D\\u00fcsseldorf_01078.txt\", 534024)"
            ]
          },
          "metadata": {}
        },
        {
          "output_type": "stream",
          "name": "stdout",
          "text": [
            "Descargando el archivo desde https://opendata.dwd.de/climate_environment/CDC/observations_germany/climate/hourly/extreme_wind/recent//stundenwerte_FX_02928_akt.zip\n",
            "Archivo stundenwerte_FX_02928_akt.zip descargado exitosamente.\n"
          ]
        },
        {
          "output_type": "display_data",
          "data": {
            "text/plain": [
              "<IPython.core.display.Javascript object>"
            ],
            "application/javascript": [
              "\n",
              "    async function download(id, filename, size) {\n",
              "      if (!google.colab.kernel.accessAllowed) {\n",
              "        return;\n",
              "      }\n",
              "      const div = document.createElement('div');\n",
              "      const label = document.createElement('label');\n",
              "      label.textContent = `Downloading \"${filename}\": `;\n",
              "      div.appendChild(label);\n",
              "      const progress = document.createElement('progress');\n",
              "      progress.max = size;\n",
              "      div.appendChild(progress);\n",
              "      document.body.appendChild(div);\n",
              "\n",
              "      const buffers = [];\n",
              "      let downloaded = 0;\n",
              "\n",
              "      const channel = await google.colab.kernel.comms.open(id);\n",
              "      // Send a message to notify the kernel that we're ready.\n",
              "      channel.send({})\n",
              "\n",
              "      for await (const message of channel.messages) {\n",
              "        // Send a message to notify the kernel that we're ready.\n",
              "        channel.send({})\n",
              "        if (message.buffers) {\n",
              "          for (const buffer of message.buffers) {\n",
              "            buffers.push(buffer);\n",
              "            downloaded += buffer.byteLength;\n",
              "            progress.value = downloaded;\n",
              "          }\n",
              "        }\n",
              "      }\n",
              "      const blob = new Blob(buffers, {type: 'application/binary'});\n",
              "      const a = document.createElement('a');\n",
              "      a.href = window.URL.createObjectURL(blob);\n",
              "      a.download = filename;\n",
              "      div.appendChild(a);\n",
              "      a.click();\n",
              "      div.remove();\n",
              "    }\n",
              "  "
            ]
          },
          "metadata": {}
        },
        {
          "output_type": "display_data",
          "data": {
            "text/plain": [
              "<IPython.core.display.Javascript object>"
            ],
            "application/javascript": [
              "download(\"download_c882378a-b479-4ead-b7b8-642c1944715e\", \"Extreme_wind_Leipzig_02928.txt\", 541199)"
            ]
          },
          "metadata": {}
        },
        {
          "output_type": "stream",
          "name": "stdout",
          "text": [
            "Descargando el archivo desde https://opendata.dwd.de/climate_environment/CDC/observations_germany/climate/hourly/extreme_wind/recent//stundenwerte_FX_01303_akt.zip\n",
            "Archivo stundenwerte_FX_01303_akt.zip descargado exitosamente.\n"
          ]
        },
        {
          "output_type": "display_data",
          "data": {
            "text/plain": [
              "<IPython.core.display.Javascript object>"
            ],
            "application/javascript": [
              "\n",
              "    async function download(id, filename, size) {\n",
              "      if (!google.colab.kernel.accessAllowed) {\n",
              "        return;\n",
              "      }\n",
              "      const div = document.createElement('div');\n",
              "      const label = document.createElement('label');\n",
              "      label.textContent = `Downloading \"${filename}\": `;\n",
              "      div.appendChild(label);\n",
              "      const progress = document.createElement('progress');\n",
              "      progress.max = size;\n",
              "      div.appendChild(progress);\n",
              "      document.body.appendChild(div);\n",
              "\n",
              "      const buffers = [];\n",
              "      let downloaded = 0;\n",
              "\n",
              "      const channel = await google.colab.kernel.comms.open(id);\n",
              "      // Send a message to notify the kernel that we're ready.\n",
              "      channel.send({})\n",
              "\n",
              "      for await (const message of channel.messages) {\n",
              "        // Send a message to notify the kernel that we're ready.\n",
              "        channel.send({})\n",
              "        if (message.buffers) {\n",
              "          for (const buffer of message.buffers) {\n",
              "            buffers.push(buffer);\n",
              "            downloaded += buffer.byteLength;\n",
              "            progress.value = downloaded;\n",
              "          }\n",
              "        }\n",
              "      }\n",
              "      const blob = new Blob(buffers, {type: 'application/binary'});\n",
              "      const a = document.createElement('a');\n",
              "      a.href = window.URL.createObjectURL(blob);\n",
              "      a.download = filename;\n",
              "      div.appendChild(a);\n",
              "      a.click();\n",
              "      div.remove();\n",
              "    }\n",
              "  "
            ]
          },
          "metadata": {}
        },
        {
          "output_type": "display_data",
          "data": {
            "text/plain": [
              "<IPython.core.display.Javascript object>"
            ],
            "application/javascript": [
              "download(\"download_96069fe7-55b7-4d8c-93f4-cfe694e3c1dc\", \"Extreme_wind_Essen_01303.txt\", 541240)"
            ]
          },
          "metadata": {}
        },
        {
          "output_type": "stream",
          "name": "stdout",
          "text": [
            "Descargando el archivo desde https://opendata.dwd.de/climate_environment/CDC/observations_germany/climate/hourly/extreme_wind/recent//stundenwerte_FX_00691_akt.zip\n",
            "Archivo stundenwerte_FX_00691_akt.zip descargado exitosamente.\n"
          ]
        },
        {
          "output_type": "display_data",
          "data": {
            "text/plain": [
              "<IPython.core.display.Javascript object>"
            ],
            "application/javascript": [
              "\n",
              "    async function download(id, filename, size) {\n",
              "      if (!google.colab.kernel.accessAllowed) {\n",
              "        return;\n",
              "      }\n",
              "      const div = document.createElement('div');\n",
              "      const label = document.createElement('label');\n",
              "      label.textContent = `Downloading \"${filename}\": `;\n",
              "      div.appendChild(label);\n",
              "      const progress = document.createElement('progress');\n",
              "      progress.max = size;\n",
              "      div.appendChild(progress);\n",
              "      document.body.appendChild(div);\n",
              "\n",
              "      const buffers = [];\n",
              "      let downloaded = 0;\n",
              "\n",
              "      const channel = await google.colab.kernel.comms.open(id);\n",
              "      // Send a message to notify the kernel that we're ready.\n",
              "      channel.send({})\n",
              "\n",
              "      for await (const message of channel.messages) {\n",
              "        // Send a message to notify the kernel that we're ready.\n",
              "        channel.send({})\n",
              "        if (message.buffers) {\n",
              "          for (const buffer of message.buffers) {\n",
              "            buffers.push(buffer);\n",
              "            downloaded += buffer.byteLength;\n",
              "            progress.value = downloaded;\n",
              "          }\n",
              "        }\n",
              "      }\n",
              "      const blob = new Blob(buffers, {type: 'application/binary'});\n",
              "      const a = document.createElement('a');\n",
              "      a.href = window.URL.createObjectURL(blob);\n",
              "      a.download = filename;\n",
              "      div.appendChild(a);\n",
              "      a.click();\n",
              "      div.remove();\n",
              "    }\n",
              "  "
            ]
          },
          "metadata": {}
        },
        {
          "output_type": "display_data",
          "data": {
            "text/plain": [
              "<IPython.core.display.Javascript object>"
            ],
            "application/javascript": [
              "download(\"download_5a111c97-a6ee-454b-a128-77674a880bb4\", \"Extreme_wind_Bremen_00691.txt\", 535582)"
            ]
          },
          "metadata": {}
        },
        {
          "output_type": "stream",
          "name": "stdout",
          "text": [
            "Descargando el archivo desde https://opendata.dwd.de/climate_environment/CDC/observations_germany/climate/hourly/extreme_wind/recent//stundenwerte_FX_01048_akt.zip\n",
            "Archivo stundenwerte_FX_01048_akt.zip descargado exitosamente.\n"
          ]
        },
        {
          "output_type": "display_data",
          "data": {
            "text/plain": [
              "<IPython.core.display.Javascript object>"
            ],
            "application/javascript": [
              "\n",
              "    async function download(id, filename, size) {\n",
              "      if (!google.colab.kernel.accessAllowed) {\n",
              "        return;\n",
              "      }\n",
              "      const div = document.createElement('div');\n",
              "      const label = document.createElement('label');\n",
              "      label.textContent = `Downloading \"${filename}\": `;\n",
              "      div.appendChild(label);\n",
              "      const progress = document.createElement('progress');\n",
              "      progress.max = size;\n",
              "      div.appendChild(progress);\n",
              "      document.body.appendChild(div);\n",
              "\n",
              "      const buffers = [];\n",
              "      let downloaded = 0;\n",
              "\n",
              "      const channel = await google.colab.kernel.comms.open(id);\n",
              "      // Send a message to notify the kernel that we're ready.\n",
              "      channel.send({})\n",
              "\n",
              "      for await (const message of channel.messages) {\n",
              "        // Send a message to notify the kernel that we're ready.\n",
              "        channel.send({})\n",
              "        if (message.buffers) {\n",
              "          for (const buffer of message.buffers) {\n",
              "            buffers.push(buffer);\n",
              "            downloaded += buffer.byteLength;\n",
              "            progress.value = downloaded;\n",
              "          }\n",
              "        }\n",
              "      }\n",
              "      const blob = new Blob(buffers, {type: 'application/binary'});\n",
              "      const a = document.createElement('a');\n",
              "      a.href = window.URL.createObjectURL(blob);\n",
              "      a.download = filename;\n",
              "      div.appendChild(a);\n",
              "      a.click();\n",
              "      div.remove();\n",
              "    }\n",
              "  "
            ]
          },
          "metadata": {}
        },
        {
          "output_type": "display_data",
          "data": {
            "text/plain": [
              "<IPython.core.display.Javascript object>"
            ],
            "application/javascript": [
              "download(\"download_8e6d79cb-fa94-419c-9081-0c87e5a73fa0\", \"Extreme_wind_Dresden_01048.txt\", 541035)"
            ]
          },
          "metadata": {}
        },
        {
          "output_type": "stream",
          "name": "stdout",
          "text": [
            "Descargando el archivo desde https://opendata.dwd.de/climate_environment/CDC/observations_germany/climate/hourly/extreme_wind/recent//stundenwerte_FX_02014_akt.zip\n",
            "Archivo stundenwerte_FX_02014_akt.zip descargado exitosamente.\n"
          ]
        },
        {
          "output_type": "display_data",
          "data": {
            "text/plain": [
              "<IPython.core.display.Javascript object>"
            ],
            "application/javascript": [
              "\n",
              "    async function download(id, filename, size) {\n",
              "      if (!google.colab.kernel.accessAllowed) {\n",
              "        return;\n",
              "      }\n",
              "      const div = document.createElement('div');\n",
              "      const label = document.createElement('label');\n",
              "      label.textContent = `Downloading \"${filename}\": `;\n",
              "      div.appendChild(label);\n",
              "      const progress = document.createElement('progress');\n",
              "      progress.max = size;\n",
              "      div.appendChild(progress);\n",
              "      document.body.appendChild(div);\n",
              "\n",
              "      const buffers = [];\n",
              "      let downloaded = 0;\n",
              "\n",
              "      const channel = await google.colab.kernel.comms.open(id);\n",
              "      // Send a message to notify the kernel that we're ready.\n",
              "      channel.send({})\n",
              "\n",
              "      for await (const message of channel.messages) {\n",
              "        // Send a message to notify the kernel that we're ready.\n",
              "        channel.send({})\n",
              "        if (message.buffers) {\n",
              "          for (const buffer of message.buffers) {\n",
              "            buffers.push(buffer);\n",
              "            downloaded += buffer.byteLength;\n",
              "            progress.value = downloaded;\n",
              "          }\n",
              "        }\n",
              "      }\n",
              "      const blob = new Blob(buffers, {type: 'application/binary'});\n",
              "      const a = document.createElement('a');\n",
              "      a.href = window.URL.createObjectURL(blob);\n",
              "      a.download = filename;\n",
              "      div.appendChild(a);\n",
              "      a.click();\n",
              "      div.remove();\n",
              "    }\n",
              "  "
            ]
          },
          "metadata": {}
        },
        {
          "output_type": "display_data",
          "data": {
            "text/plain": [
              "<IPython.core.display.Javascript object>"
            ],
            "application/javascript": [
              "download(\"download_cac1f4d9-a25a-46c8-be55-cbbbc6734ab5\", \"Extreme_wind_Hannover_02014.txt\", 535295)"
            ]
          },
          "metadata": {}
        },
        {
          "output_type": "stream",
          "name": "stdout",
          "text": [
            "Descargando el archivo desde https://opendata.dwd.de/climate_environment/CDC/observations_germany/climate/hourly/extreme_wind/recent//stundenwerte_FX_03668_akt.zip\n",
            "Archivo stundenwerte_FX_03668_akt.zip descargado exitosamente.\n"
          ]
        },
        {
          "output_type": "display_data",
          "data": {
            "text/plain": [
              "<IPython.core.display.Javascript object>"
            ],
            "application/javascript": [
              "\n",
              "    async function download(id, filename, size) {\n",
              "      if (!google.colab.kernel.accessAllowed) {\n",
              "        return;\n",
              "      }\n",
              "      const div = document.createElement('div');\n",
              "      const label = document.createElement('label');\n",
              "      label.textContent = `Downloading \"${filename}\": `;\n",
              "      div.appendChild(label);\n",
              "      const progress = document.createElement('progress');\n",
              "      progress.max = size;\n",
              "      div.appendChild(progress);\n",
              "      document.body.appendChild(div);\n",
              "\n",
              "      const buffers = [];\n",
              "      let downloaded = 0;\n",
              "\n",
              "      const channel = await google.colab.kernel.comms.open(id);\n",
              "      // Send a message to notify the kernel that we're ready.\n",
              "      channel.send({})\n",
              "\n",
              "      for await (const message of channel.messages) {\n",
              "        // Send a message to notify the kernel that we're ready.\n",
              "        channel.send({})\n",
              "        if (message.buffers) {\n",
              "          for (const buffer of message.buffers) {\n",
              "            buffers.push(buffer);\n",
              "            downloaded += buffer.byteLength;\n",
              "            progress.value = downloaded;\n",
              "          }\n",
              "        }\n",
              "      }\n",
              "      const blob = new Blob(buffers, {type: 'application/binary'});\n",
              "      const a = document.createElement('a');\n",
              "      a.href = window.URL.createObjectURL(blob);\n",
              "      a.download = filename;\n",
              "      div.appendChild(a);\n",
              "      a.click();\n",
              "      div.remove();\n",
              "    }\n",
              "  "
            ]
          },
          "metadata": {}
        },
        {
          "output_type": "display_data",
          "data": {
            "text/plain": [
              "<IPython.core.display.Javascript object>"
            ],
            "application/javascript": [
              "download(\"download_a904ed93-49ac-4df3-9ea6-2d4069f7f4a8\", \"Extreme_wind_N\\u00fcrnberg_03668.txt\", 534229)"
            ]
          },
          "metadata": {}
        },
        {
          "output_type": "stream",
          "name": "stdout",
          "text": [
            "Descargando el archivo desde https://opendata.dwd.de/climate_environment/CDC/observations_germany/climate/hourly/extreme_wind/recent//stundenwerte_FX_03321_akt.zip\n",
            "Archivo stundenwerte_FX_03321_akt.zip descargado exitosamente.\n"
          ]
        },
        {
          "output_type": "display_data",
          "data": {
            "text/plain": [
              "<IPython.core.display.Javascript object>"
            ],
            "application/javascript": [
              "\n",
              "    async function download(id, filename, size) {\n",
              "      if (!google.colab.kernel.accessAllowed) {\n",
              "        return;\n",
              "      }\n",
              "      const div = document.createElement('div');\n",
              "      const label = document.createElement('label');\n",
              "      label.textContent = `Downloading \"${filename}\": `;\n",
              "      div.appendChild(label);\n",
              "      const progress = document.createElement('progress');\n",
              "      progress.max = size;\n",
              "      div.appendChild(progress);\n",
              "      document.body.appendChild(div);\n",
              "\n",
              "      const buffers = [];\n",
              "      let downloaded = 0;\n",
              "\n",
              "      const channel = await google.colab.kernel.comms.open(id);\n",
              "      // Send a message to notify the kernel that we're ready.\n",
              "      channel.send({})\n",
              "\n",
              "      for await (const message of channel.messages) {\n",
              "        // Send a message to notify the kernel that we're ready.\n",
              "        channel.send({})\n",
              "        if (message.buffers) {\n",
              "          for (const buffer of message.buffers) {\n",
              "            buffers.push(buffer);\n",
              "            downloaded += buffer.byteLength;\n",
              "            progress.value = downloaded;\n",
              "          }\n",
              "        }\n",
              "      }\n",
              "      const blob = new Blob(buffers, {type: 'application/binary'});\n",
              "      const a = document.createElement('a');\n",
              "      a.href = window.URL.createObjectURL(blob);\n",
              "      a.download = filename;\n",
              "      div.appendChild(a);\n",
              "      a.click();\n",
              "      div.remove();\n",
              "    }\n",
              "  "
            ]
          },
          "metadata": {}
        },
        {
          "output_type": "display_data",
          "data": {
            "text/plain": [
              "<IPython.core.display.Javascript object>"
            ],
            "application/javascript": [
              "download(\"download_07be3714-15b0-4964-8537-7a0634c3309d\", \"Extreme_wind_Duisburg_03321.txt\", 541240)"
            ]
          },
          "metadata": {}
        },
        {
          "output_type": "stream",
          "name": "stdout",
          "text": [
            "Descargando el archivo desde https://opendata.dwd.de/climate_environment/CDC/observations_germany/climate/hourly/extreme_wind/recent//stundenwerte_FX_03098_akt.zip\n",
            "Archivo stundenwerte_FX_03098_akt.zip descargado exitosamente.\n"
          ]
        },
        {
          "output_type": "display_data",
          "data": {
            "text/plain": [
              "<IPython.core.display.Javascript object>"
            ],
            "application/javascript": [
              "\n",
              "    async function download(id, filename, size) {\n",
              "      if (!google.colab.kernel.accessAllowed) {\n",
              "        return;\n",
              "      }\n",
              "      const div = document.createElement('div');\n",
              "      const label = document.createElement('label');\n",
              "      label.textContent = `Downloading \"${filename}\": `;\n",
              "      div.appendChild(label);\n",
              "      const progress = document.createElement('progress');\n",
              "      progress.max = size;\n",
              "      div.appendChild(progress);\n",
              "      document.body.appendChild(div);\n",
              "\n",
              "      const buffers = [];\n",
              "      let downloaded = 0;\n",
              "\n",
              "      const channel = await google.colab.kernel.comms.open(id);\n",
              "      // Send a message to notify the kernel that we're ready.\n",
              "      channel.send({})\n",
              "\n",
              "      for await (const message of channel.messages) {\n",
              "        // Send a message to notify the kernel that we're ready.\n",
              "        channel.send({})\n",
              "        if (message.buffers) {\n",
              "          for (const buffer of message.buffers) {\n",
              "            buffers.push(buffer);\n",
              "            downloaded += buffer.byteLength;\n",
              "            progress.value = downloaded;\n",
              "          }\n",
              "        }\n",
              "      }\n",
              "      const blob = new Blob(buffers, {type: 'application/binary'});\n",
              "      const a = document.createElement('a');\n",
              "      a.href = window.URL.createObjectURL(blob);\n",
              "      a.download = filename;\n",
              "      div.appendChild(a);\n",
              "      a.click();\n",
              "      div.remove();\n",
              "    }\n",
              "  "
            ]
          },
          "metadata": {}
        },
        {
          "output_type": "display_data",
          "data": {
            "text/plain": [
              "<IPython.core.display.Javascript object>"
            ],
            "application/javascript": [
              "download(\"download_89c2881c-b36a-437c-8015-cd1436aaeaea\", \"Extreme_wind_Bochum_03098.txt\", 534516)"
            ]
          },
          "metadata": {}
        },
        {
          "output_type": "stream",
          "name": "stdout",
          "text": [
            "Descargando el archivo desde https://opendata.dwd.de/climate_environment/CDC/observations_germany/climate/hourly/extreme_wind/recent//stundenwerte_FX_15200_akt.zip\n",
            "Archivo stundenwerte_FX_15200_akt.zip descargado exitosamente.\n"
          ]
        },
        {
          "output_type": "display_data",
          "data": {
            "text/plain": [
              "<IPython.core.display.Javascript object>"
            ],
            "application/javascript": [
              "\n",
              "    async function download(id, filename, size) {\n",
              "      if (!google.colab.kernel.accessAllowed) {\n",
              "        return;\n",
              "      }\n",
              "      const div = document.createElement('div');\n",
              "      const label = document.createElement('label');\n",
              "      label.textContent = `Downloading \"${filename}\": `;\n",
              "      div.appendChild(label);\n",
              "      const progress = document.createElement('progress');\n",
              "      progress.max = size;\n",
              "      div.appendChild(progress);\n",
              "      document.body.appendChild(div);\n",
              "\n",
              "      const buffers = [];\n",
              "      let downloaded = 0;\n",
              "\n",
              "      const channel = await google.colab.kernel.comms.open(id);\n",
              "      // Send a message to notify the kernel that we're ready.\n",
              "      channel.send({})\n",
              "\n",
              "      for await (const message of channel.messages) {\n",
              "        // Send a message to notify the kernel that we're ready.\n",
              "        channel.send({})\n",
              "        if (message.buffers) {\n",
              "          for (const buffer of message.buffers) {\n",
              "            buffers.push(buffer);\n",
              "            downloaded += buffer.byteLength;\n",
              "            progress.value = downloaded;\n",
              "          }\n",
              "        }\n",
              "      }\n",
              "      const blob = new Blob(buffers, {type: 'application/binary'});\n",
              "      const a = document.createElement('a');\n",
              "      a.href = window.URL.createObjectURL(blob);\n",
              "      a.download = filename;\n",
              "      div.appendChild(a);\n",
              "      a.click();\n",
              "      div.remove();\n",
              "    }\n",
              "  "
            ]
          },
          "metadata": {}
        },
        {
          "output_type": "display_data",
          "data": {
            "text/plain": [
              "<IPython.core.display.Javascript object>"
            ],
            "application/javascript": [
              "download(\"download_61a1150c-c7c0-4916-93ab-2ebc33a9efa2\", \"Extreme_wind_Wuppertal_15200.txt\", 538124)"
            ]
          },
          "metadata": {}
        },
        {
          "output_type": "stream",
          "name": "stdout",
          "text": [
            "Descargando el archivo desde https://opendata.dwd.de/climate_environment/CDC/observations_germany/climate/hourly/extreme_wind/recent//stundenwerte_FX_04371_akt.zip\n",
            "Archivo stundenwerte_FX_04371_akt.zip descargado exitosamente.\n"
          ]
        },
        {
          "output_type": "display_data",
          "data": {
            "text/plain": [
              "<IPython.core.display.Javascript object>"
            ],
            "application/javascript": [
              "\n",
              "    async function download(id, filename, size) {\n",
              "      if (!google.colab.kernel.accessAllowed) {\n",
              "        return;\n",
              "      }\n",
              "      const div = document.createElement('div');\n",
              "      const label = document.createElement('label');\n",
              "      label.textContent = `Downloading \"${filename}\": `;\n",
              "      div.appendChild(label);\n",
              "      const progress = document.createElement('progress');\n",
              "      progress.max = size;\n",
              "      div.appendChild(progress);\n",
              "      document.body.appendChild(div);\n",
              "\n",
              "      const buffers = [];\n",
              "      let downloaded = 0;\n",
              "\n",
              "      const channel = await google.colab.kernel.comms.open(id);\n",
              "      // Send a message to notify the kernel that we're ready.\n",
              "      channel.send({})\n",
              "\n",
              "      for await (const message of channel.messages) {\n",
              "        // Send a message to notify the kernel that we're ready.\n",
              "        channel.send({})\n",
              "        if (message.buffers) {\n",
              "          for (const buffer of message.buffers) {\n",
              "            buffers.push(buffer);\n",
              "            downloaded += buffer.byteLength;\n",
              "            progress.value = downloaded;\n",
              "          }\n",
              "        }\n",
              "      }\n",
              "      const blob = new Blob(buffers, {type: 'application/binary'});\n",
              "      const a = document.createElement('a');\n",
              "      a.href = window.URL.createObjectURL(blob);\n",
              "      a.download = filename;\n",
              "      div.appendChild(a);\n",
              "      a.click();\n",
              "      div.remove();\n",
              "    }\n",
              "  "
            ]
          },
          "metadata": {}
        },
        {
          "output_type": "display_data",
          "data": {
            "text/plain": [
              "<IPython.core.display.Javascript object>"
            ],
            "application/javascript": [
              "download(\"download_27061151-3909-488a-ac49-dab1f878e61c\", \"Extreme_wind_Bielefeld_04371.txt\", 541240)"
            ]
          },
          "metadata": {}
        },
        {
          "output_type": "stream",
          "name": "stdout",
          "text": [
            "Descargando el archivo desde https://opendata.dwd.de/climate_environment/CDC/observations_germany/climate/hourly/extreme_wind/recent//stundenwerte_FX_02667_akt.zip\n",
            "Archivo stundenwerte_FX_02667_akt.zip descargado exitosamente.\n"
          ]
        },
        {
          "output_type": "display_data",
          "data": {
            "text/plain": [
              "<IPython.core.display.Javascript object>"
            ],
            "application/javascript": [
              "\n",
              "    async function download(id, filename, size) {\n",
              "      if (!google.colab.kernel.accessAllowed) {\n",
              "        return;\n",
              "      }\n",
              "      const div = document.createElement('div');\n",
              "      const label = document.createElement('label');\n",
              "      label.textContent = `Downloading \"${filename}\": `;\n",
              "      div.appendChild(label);\n",
              "      const progress = document.createElement('progress');\n",
              "      progress.max = size;\n",
              "      div.appendChild(progress);\n",
              "      document.body.appendChild(div);\n",
              "\n",
              "      const buffers = [];\n",
              "      let downloaded = 0;\n",
              "\n",
              "      const channel = await google.colab.kernel.comms.open(id);\n",
              "      // Send a message to notify the kernel that we're ready.\n",
              "      channel.send({})\n",
              "\n",
              "      for await (const message of channel.messages) {\n",
              "        // Send a message to notify the kernel that we're ready.\n",
              "        channel.send({})\n",
              "        if (message.buffers) {\n",
              "          for (const buffer of message.buffers) {\n",
              "            buffers.push(buffer);\n",
              "            downloaded += buffer.byteLength;\n",
              "            progress.value = downloaded;\n",
              "          }\n",
              "        }\n",
              "      }\n",
              "      const blob = new Blob(buffers, {type: 'application/binary'});\n",
              "      const a = document.createElement('a');\n",
              "      a.href = window.URL.createObjectURL(blob);\n",
              "      a.download = filename;\n",
              "      div.appendChild(a);\n",
              "      a.click();\n",
              "      div.remove();\n",
              "    }\n",
              "  "
            ]
          },
          "metadata": {}
        },
        {
          "output_type": "display_data",
          "data": {
            "text/plain": [
              "<IPython.core.display.Javascript object>"
            ],
            "application/javascript": [
              "download(\"download_8a1effb2-acb4-4df8-871a-a603cc68cf96\", \"Extreme_wind_Bonn_02667.txt\", 538124)"
            ]
          },
          "metadata": {}
        },
        {
          "output_type": "stream",
          "name": "stdout",
          "text": [
            "Descargando el archivo desde https://opendata.dwd.de/climate_environment/CDC/observations_germany/climate/hourly/extreme_wind/recent//stundenwerte_FX_01766_akt.zip\n",
            "Archivo stundenwerte_FX_01766_akt.zip descargado exitosamente.\n"
          ]
        },
        {
          "output_type": "display_data",
          "data": {
            "text/plain": [
              "<IPython.core.display.Javascript object>"
            ],
            "application/javascript": [
              "\n",
              "    async function download(id, filename, size) {\n",
              "      if (!google.colab.kernel.accessAllowed) {\n",
              "        return;\n",
              "      }\n",
              "      const div = document.createElement('div');\n",
              "      const label = document.createElement('label');\n",
              "      label.textContent = `Downloading \"${filename}\": `;\n",
              "      div.appendChild(label);\n",
              "      const progress = document.createElement('progress');\n",
              "      progress.max = size;\n",
              "      div.appendChild(progress);\n",
              "      document.body.appendChild(div);\n",
              "\n",
              "      const buffers = [];\n",
              "      let downloaded = 0;\n",
              "\n",
              "      const channel = await google.colab.kernel.comms.open(id);\n",
              "      // Send a message to notify the kernel that we're ready.\n",
              "      channel.send({})\n",
              "\n",
              "      for await (const message of channel.messages) {\n",
              "        // Send a message to notify the kernel that we're ready.\n",
              "        channel.send({})\n",
              "        if (message.buffers) {\n",
              "          for (const buffer of message.buffers) {\n",
              "            buffers.push(buffer);\n",
              "            downloaded += buffer.byteLength;\n",
              "            progress.value = downloaded;\n",
              "          }\n",
              "        }\n",
              "      }\n",
              "      const blob = new Blob(buffers, {type: 'application/binary'});\n",
              "      const a = document.createElement('a');\n",
              "      a.href = window.URL.createObjectURL(blob);\n",
              "      a.download = filename;\n",
              "      div.appendChild(a);\n",
              "      a.click();\n",
              "      div.remove();\n",
              "    }\n",
              "  "
            ]
          },
          "metadata": {}
        },
        {
          "output_type": "display_data",
          "data": {
            "text/plain": [
              "<IPython.core.display.Javascript object>"
            ],
            "application/javascript": [
              "download(\"download_96873181-657e-4221-bc38-da64491952ae\", \"Extreme_wind_M\\u00fcnster(Westf)_01766.txt\", 540666)"
            ]
          },
          "metadata": {}
        },
        {
          "output_type": "stream",
          "name": "stdout",
          "text": [
            "Descargando el archivo desde https://opendata.dwd.de/climate_environment/CDC/observations_germany/climate/hourly/extreme_wind/recent//stundenwerte_FX_02483_akt.zip\n",
            "Archivo stundenwerte_FX_02483_akt.zip descargado exitosamente.\n"
          ]
        },
        {
          "output_type": "display_data",
          "data": {
            "text/plain": [
              "<IPython.core.display.Javascript object>"
            ],
            "application/javascript": [
              "\n",
              "    async function download(id, filename, size) {\n",
              "      if (!google.colab.kernel.accessAllowed) {\n",
              "        return;\n",
              "      }\n",
              "      const div = document.createElement('div');\n",
              "      const label = document.createElement('label');\n",
              "      label.textContent = `Downloading \"${filename}\": `;\n",
              "      div.appendChild(label);\n",
              "      const progress = document.createElement('progress');\n",
              "      progress.max = size;\n",
              "      div.appendChild(progress);\n",
              "      document.body.appendChild(div);\n",
              "\n",
              "      const buffers = [];\n",
              "      let downloaded = 0;\n",
              "\n",
              "      const channel = await google.colab.kernel.comms.open(id);\n",
              "      // Send a message to notify the kernel that we're ready.\n",
              "      channel.send({})\n",
              "\n",
              "      for await (const message of channel.messages) {\n",
              "        // Send a message to notify the kernel that we're ready.\n",
              "        channel.send({})\n",
              "        if (message.buffers) {\n",
              "          for (const buffer of message.buffers) {\n",
              "            buffers.push(buffer);\n",
              "            downloaded += buffer.byteLength;\n",
              "            progress.value = downloaded;\n",
              "          }\n",
              "        }\n",
              "      }\n",
              "      const blob = new Blob(buffers, {type: 'application/binary'});\n",
              "      const a = document.createElement('a');\n",
              "      a.href = window.URL.createObjectURL(blob);\n",
              "      a.download = filename;\n",
              "      div.appendChild(a);\n",
              "      a.click();\n",
              "      div.remove();\n",
              "    }\n",
              "  "
            ]
          },
          "metadata": {}
        },
        {
          "output_type": "display_data",
          "data": {
            "text/plain": [
              "<IPython.core.display.Javascript object>"
            ],
            "application/javascript": [
              "download(\"download_0075b53d-ca38-455e-bb5b-16fc58c3c251\", \"Extreme_wind_Dortmund_02483.txt\", 538698)"
            ]
          },
          "metadata": {}
        },
        {
          "output_type": "stream",
          "name": "stdout",
          "text": [
            "\n",
            "Archivos después de renombrar:\n",
            "['Extreme_wind_Essen_01303.txt', 'Metadaten_Parameter_fx_stunde_00954.txt', 'Metadaten_Stationsname_Betreibername_15200.html', 'Metadaten_Stationsname_Betreibername_03379.txt', 'Metadaten_Fehldaten_00954_20230305_20240904.html', 'Metadaten_Stationsname_Betreibername_04928.html', 'Metadaten_Stationsname_Betreibername_03098.html', 'Metadaten_Stationsname_Betreibername_02014.html', 'Extreme_wind_Bremen_00691.txt', 'Metadaten_Fehlwerte_03098_20230305_20240904.txt', 'Metadaten_Geraete_Maxwind_03668.html', 'Metadaten_Stationsname_Betreibername_02483.html', 'Metadaten_Parameter_fx_stunde_15200.html', 'Metadaten_Geraete_Maxwind_01766.txt', 'Metadaten_Stationsname_Betreibername_00433.html', 'Extreme_wind_Koln_15000.txt', 'Metadaten_Geographie_03379.txt', 'stundenwerte_FX_02667_akt.zip', 'Metadaten_Geraete_Maxwind_02928.txt', 'Metadaten_Stationsname_Betreibername_01766.html', 'Metadaten_Fehldaten_02014_20230305_20240904.html', 'Metadaten_Parameter_fx_stunde_02014.txt', 'Metadaten_Geographie_03321.txt', 'Metadaten_Stationsname_Betreibername_01420.html', 'Metadaten_Stationsname_Betreibername_00954.txt', 'Metadaten_Geographie_02483.txt', 'stundenwerte_FX_01078_akt.zip', 'Metadaten_Geographie_02928.txt', 'Metadaten_Parameter_fx_stunde_02667.html', 'Metadaten_Geraete_Maxwind_03668.txt', 'Metadaten_Fehlwerte_02667_20230305_20240904.txt', 'Metadaten_Geraete_Maxwind_03321.html', 'Metadaten_Geraete_Maxwind_01420.txt', 'Metadaten_Parameter_fx_stunde_02483.html', 'Metadaten_Fehldaten_15000_20230305_20240904.txt', 'Metadaten_Geraete_Maxwind_02667.txt', 'Metadaten_Fehlwerte_03379_20230305_20240904.txt', 'Metadaten_Fehldaten_01766_20230305_20240904.txt', 'Metadaten_Parameter_fx_stunde_03098.html', 'Metadaten_Stationsname_Betreibername_01078.html', 'Metadaten_Geraete_Maxwind_02014.html', 'Metadaten_Fehlwerte_04928_20230305_20240904.txt', 'Metadaten_Parameter_fx_stunde_00433.txt', 'Metadaten_Parameter_fx_stunde_01766.html', 'Extreme_wind_Bonn_02667.txt', 'Metadaten_Geraete_Maxwind_15200.txt', 'Metadaten_Geraete_Maxwind_15200.html', 'Metadaten_Stationsname_Betreibername_02928.txt', 'Metadaten_Fehldaten_03379_20230305_20240904.txt', 'Metadaten_Stationsname_Betreibername_01303.html', 'Metadaten_Stationsname_Betreibername_03668.txt', 'Metadaten_Stationsname_Betreibername_01420.txt', 'Metadaten_Stationsname_Betreibername_15000.html', 'Metadaten_Fehldaten_04928_20230305_20240904.html', 'Extreme_wind_Düsseldorf_01078.txt', 'Metadaten_Parameter_fx_stunde_01420.html', 'Metadaten_Fehldaten_03668_20230305_20240904.txt', 'Metadaten_Fehldaten_01048_20230305_20240904.txt', 'Metadaten_Geraete_Maxwind_01766.html', 'Metadaten_Fehlwerte_03668_20230305_20240904.txt', 'Metadaten_Stationsname_Betreibername_00691.txt', 'Metadaten_Parameter_fx_stunde_03098.txt', 'Metadaten_Fehlwerte_01766_20230305_20240904.txt', 'Metadaten_Geraete_Maxwind_01420.html', 'Extreme_wind_Dresden_01048.txt', 'Metadaten_Geraete_Maxwind_02483.html', 'Metadaten_Fehldaten_00691_20230305_20240904.txt', 'Metadaten_Stationsname_Betreibername_03668.html', 'Metadaten_Parameter_fx_stunde_01078.html', 'Metadaten_Stationsname_Betreibername_00691.html', 'Metadaten_Stationsname_Betreibername_15000.txt', 'Metadaten_Fehldaten_15000_20230305_20240904.html', 'Extreme_wind_Nürnberg_03668.txt', 'Metadaten_Geographie_15200.txt', 'Metadaten_Geographie_02667.txt', 'Metadaten_Parameter_fx_stunde_02667.txt', 'Metadaten_Stationsname_Betreibername_03321.txt', 'Metadaten_Fehldaten_04928_20230305_20240904.txt', 'Metadaten_Stationsname_Betreibername_01078.txt', 'stundenwerte_FX_00954_akt.zip', 'Metadaten_Stationsname_Betreibername_00433.txt', 'Metadaten_Geraete_Maxwind_01048.html', 'Metadaten_Geographie_00691.txt', 'stundenwerte_FX_04371_akt.zip', 'Metadaten_Fehldaten_01078_20230305_20240904.html', 'Metadaten_Geraete_Maxwind_01078.html', 'Extreme_wind_Bochum_03098.txt', 'Metadaten_Stationsname_Betreibername_02667.html', 'stundenwerte_FX_02483_akt.zip', 'stundenwerte_FX_00691_akt.zip', 'Metadaten_Fehldaten_00954_20230305_20240904.txt', 'Metadaten_Geraete_Maxwind_15000.html', 'Metadaten_Parameter_fx_stunde_00954.html', 'Metadaten_Fehlwerte_02014_20230305_20240904.txt', 'Metadaten_Fehldaten_01048_20230305_20240904.html', 'Extreme_wind_Dortmund_02483.txt', 'Extreme_wind_Frankfurt_am_Main_01420.txt', 'Metadaten_Fehldaten_03379_20230305_20240904.html', 'Metadaten_Geraete_Maxwind_01303.txt', 'stundenwerte_FX_15200_akt.zip', 'Metadaten_Stationsname_Betreibername_03379.html', 'Metadaten_Geographie_01766.txt', 'Metadaten_Geraete_Maxwind_00691.txt', 'Metadaten_Stationsname_Betreibername_00954.html', 'Metadaten_Geraete_Maxwind_01048.txt', 'Metadaten_Fehldaten_02667_20230305_20240904.txt', 'Extreme_wind_Leipzig_02928.txt', 'Metadaten_Parameter_fx_stunde_04371.html', 'stundenwerte_FX_01420_akt.zip', 'Metadaten_Geraete_Maxwind_00691.html', 'Metadaten_Fehldaten_02483_20230305_20240904.html', 'Extreme_wind_Duisburg_03321.txt', 'Metadaten_Parameter_fx_stunde_03321.html', 'Metadaten_Parameter_fx_stunde_15200.txt', 'Metadaten_Geraete_Maxwind_03098.txt', 'Metadaten_Fehldaten_03098_20230305_20240904.html', 'Metadaten_Geographie_01048.txt', 'Metadaten_Parameter_fx_stunde_01303.html', 'Metadaten_Fehlwerte_00433_20230305_20240904.txt', 'Metadaten_Stationsname_Betreibername_01303.txt', 'Metadaten_Parameter_fx_stunde_01078.txt', 'Metadaten_Parameter_fx_stunde_02928.txt', 'Metadaten_Stationsname_Betreibername_15200.txt', 'Metadaten_Geographie_03098.txt', 'Metadaten_Geographie_00433.txt', 'Metadaten_Fehlwerte_01078_20230305_20240904.txt', 'Metadaten_Fehlwerte_00954_20230305_20240904.txt', 'stundenwerte_FX_01303_akt.zip', 'Metadaten_Geraete_Maxwind_04928.txt', 'stundenwerte_FX_01048_akt.zip', 'Metadaten_Fehlwerte_02483_20230305_20240904.txt', 'Metadaten_Geraete_Maxwind_01303.html', 'Metadaten_Fehldaten_15200_20230305_20240904.html', 'Metadaten_Fehldaten_03098_20230305_20240904.txt', 'Metadaten_Geographie_01303.txt', 'Metadaten_Geraete_Maxwind_03379.html', 'Metadaten_Parameter_fx_stunde_02928.html', 'Metadaten_Parameter_fx_stunde_00691.txt', 'Metadaten_Geographie_00954.txt', 'Metadaten_Parameter_fx_stunde_01048.txt', 'Metadaten_Geographie_04371.txt', 'Metadaten_Geraete_Maxwind_02928.html', 'stundenwerte_FX_04928_akt.zip', 'Metadaten_Parameter_fx_stunde_02483.txt', 'Metadaten_Geraete_Maxwind_15000.txt', 'Metadaten_Stationsname_Betreibername_04371.html', 'Metadaten_Parameter_fx_stunde_01303.txt', 'Metadaten_Fehldaten_01420_20230305_20240904.html', 'Extreme_wind_Munchen_03379.txt', 'Metadaten_Parameter_fx_stunde_04928.html', 'Metadaten_Fehldaten_00691_20230305_20240904.html', 'Metadaten_Parameter_fx_stunde_01766.txt', 'Metadaten_Geographie_01078.txt', 'Metadaten_Stationsname_Betreibername_01766.txt', 'stundenwerte_FX_03379_akt.zip', 'stundenwerte_FX_03668_akt.zip', 'Metadaten_Stationsname_Betreibername_04371.txt', 'Metadaten_Geraete_Maxwind_00433.html', 'Metadaten_Fehlwerte_01420_20230305_20240904.txt', 'Metadaten_Parameter_fx_stunde_04928.txt', 'Metadaten_Stationsname_Betreibername_01048.txt', 'Metadaten_Geraete_Maxwind_02014.txt', 'Metadaten_Fehldaten_01078_20230305_20240904.txt', 'stundenwerte_FX_01766_akt.zip', 'Extreme_wind_Hannover_02014.txt', 'stundenwerte_FX_00433_akt.zip', 'Metadaten_Fehldaten_02667_20230305_20240904.html', 'Metadaten_Geraete_Maxwind_04928.html', 'Extreme_wind_Wuppertal_15200.txt', 'Metadaten_Fehldaten_02014_20230305_20240904.txt', 'Metadaten_Geraete_Maxwind_02483.txt', 'Metadaten_Geraete_Maxwind_00433.txt', 'Metadaten_Fehldaten_02483_20230305_20240904.txt', 'Metadaten_Parameter_fx_stunde_03379.txt', 'Metadaten_Geraete_Maxwind_03379.txt', 'Metadaten_Parameter_fx_stunde_15000.txt', 'Metadaten_Parameter_fx_stunde_01420.txt', 'Metadaten_Stationsname_Betreibername_03321.html', 'Metadaten_Geraete_Maxwind_00954.txt', 'Extreme_wind_Berlin_00433.txt', 'Metadaten_Geographie_15000.txt', 'Metadaten_Parameter_fx_stunde_03668.txt', 'Metadaten_Fehldaten_01420_20230305_20240904.txt', 'Extreme_wind_Stuttgart_04928.txt', 'stundenwerte_FX_03098_akt.zip', 'Metadaten_Geraete_Maxwind_03098.html', 'Extreme_wind_Münster(Westf)_01766.txt', 'stundenwerte_FX_02928_akt.zip', 'stundenwerte_FX_03321_akt.zip', 'Metadaten_Stationsname_Betreibername_02667.txt', 'Metadaten_Geographie_03668.txt', 'Metadaten_Stationsname_Betreibername_02483.txt', 'Metadaten_Stationsname_Betreibername_02928.html', 'Metadaten_Fehldaten_01766_20230305_20240904.html', 'Metadaten_Geraete_Maxwind_04371.html', 'Metadaten_Geraete_Maxwind_03321.txt', 'Metadaten_Geographie_02014.txt', 'Metadaten_Stationsname_Betreibername_03098.txt', 'Metadaten_Geraete_Maxwind_00954.html', 'Extreme_wind_Bielefeld_04371.txt', 'Metadaten_Parameter_fx_stunde_03379.html', 'Metadaten_Stationsname_Betreibername_01048.html', 'Metadaten_Fehldaten_03668_20230305_20240904.html', 'Metadaten_Parameter_fx_stunde_03668.html', 'Metadaten_Parameter_fx_stunde_03321.txt', 'Metadaten_Parameter_fx_stunde_15000.html', 'Metadaten_Fehldaten_00433_20230305_20240904.html', 'Extreme_wind_Hamburg_00954.txt', 'Metadaten_Stationsname_Betreibername_04928.txt', 'Metadaten_Geographie_01420.txt', 'Metadaten_Parameter_fx_stunde_02014.html', 'Metadaten_Parameter_fx_stunde_00433.html', 'Metadaten_Fehlwerte_15200_20230305_20240904.txt', 'Metadaten_Geographie_04928.txt', 'Metadaten_Stationsname_Betreibername_02014.txt', 'Metadaten_Parameter_fx_stunde_00691.html', 'Metadaten_Geraete_Maxwind_01078.txt', 'Metadaten_Fehldaten_00433_20230305_20240904.txt', 'Metadaten_Fehldaten_15200_20230305_20240904.txt', 'Metadaten_Fehlwerte_00691_20230305_20240904.txt', 'Metadaten_Fehlwerte_01048_20230305_20240904.txt', 'stundenwerte_FX_15000_akt.zip', 'Metadaten_Parameter_fx_stunde_01048.html', 'Metadaten_Geraete_Maxwind_04371.txt', 'stundenwerte_FX_02014_akt.zip', 'Metadaten_Geraete_Maxwind_02667.html', 'Metadaten_Parameter_fx_stunde_04371.txt', 'Metadaten_Fehlwerte_15000_20230305_20240904.txt']\n"
          ]
        }
      ]
    }
  ]
}